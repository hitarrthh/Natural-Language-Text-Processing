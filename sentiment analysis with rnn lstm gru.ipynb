{
  "nbformat": 4,
  "nbformat_minor": 0,
  "metadata": {
    "colab": {
      "provenance": [],
      "gpuType": "T4"
    },
    "kernelspec": {
      "name": "python3",
      "display_name": "Python 3"
    },
    "language_info": {
      "name": "python"
    },
    "accelerator": "GPU"
  },
  "cells": [
    {
      "cell_type": "code",
      "source": [
        "#!pip install gensim\n",
        "#!pip install --upgrade numpy pandas"
      ],
      "metadata": {
        "id": "n_q7-TgwCw2u"
      },
      "execution_count": 58,
      "outputs": []
    },
    {
      "cell_type": "markdown",
      "source": [
        "Dataset Analysis and Loading"
      ],
      "metadata": {
        "id": "aLmUFOpDBONG"
      }
    },
    {
      "cell_type": "code",
      "source": [
        "import pandas as pd\n",
        "import warnings\n",
        "warnings.filterwarnings('ignore')\n",
        "df = pd.read_csv('amazon_reviews.csv')\n",
        "\n",
        "print(\"Dataset Head:\")\n",
        "print(df.head())\n",
        "\n",
        "print(\"\\nDataset Info:\")\n",
        "print(df.info())\n",
        "\n",
        "if 'sentiment' in df.columns:\n",
        "    print(\"\\nSentiment Distribution:\")\n",
        "    print(df['sentiment'].value_counts())"
      ],
      "metadata": {
        "colab": {
          "base_uri": "https://localhost:8080/"
        },
        "id": "vmUj2DC8EqT6",
        "outputId": "04e9198f-dc1a-4933-db4f-c84219d61a51"
      },
      "execution_count": 59,
      "outputs": [
        {
          "output_type": "stream",
          "name": "stdout",
          "text": [
            "Dataset Head:\n",
            "   Unnamed: 0  reviewerName  overall  \\\n",
            "0           0           NaN      4.0   \n",
            "1           1          0mie      5.0   \n",
            "2           2           1K3      4.0   \n",
            "3           3           1m2      5.0   \n",
            "4           4  2&amp;1/2Men      5.0   \n",
            "\n",
            "                                          reviewText  reviewTime  day_diff  \\\n",
            "0                                         No issues.  2014-07-23       138   \n",
            "1  Purchased this for my device, it worked as adv...  2013-10-25       409   \n",
            "2  it works as expected. I should have sprung for...  2012-12-23       715   \n",
            "3  This think has worked out great.Had a diff. br...  2013-11-21       382   \n",
            "4  Bought it with Retail Packaging, arrived legit...  2013-07-13       513   \n",
            "\n",
            "   helpful_yes  helpful_no  total_vote  score_pos_neg_diff  \\\n",
            "0            0           0           0                   0   \n",
            "1            0           0           0                   0   \n",
            "2            0           0           0                   0   \n",
            "3            0           0           0                   0   \n",
            "4            0           0           0                   0   \n",
            "\n",
            "   score_average_rating  wilson_lower_bound  \n",
            "0                   0.0                 0.0  \n",
            "1                   0.0                 0.0  \n",
            "2                   0.0                 0.0  \n",
            "3                   0.0                 0.0  \n",
            "4                   0.0                 0.0  \n",
            "\n",
            "Dataset Info:\n",
            "<class 'pandas.core.frame.DataFrame'>\n",
            "RangeIndex: 4915 entries, 0 to 4914\n",
            "Data columns (total 12 columns):\n",
            " #   Column                Non-Null Count  Dtype  \n",
            "---  ------                --------------  -----  \n",
            " 0   Unnamed: 0            4915 non-null   int64  \n",
            " 1   reviewerName          4914 non-null   object \n",
            " 2   overall               4915 non-null   float64\n",
            " 3   reviewText            4914 non-null   object \n",
            " 4   reviewTime            4915 non-null   object \n",
            " 5   day_diff              4915 non-null   int64  \n",
            " 6   helpful_yes           4915 non-null   int64  \n",
            " 7   helpful_no            4915 non-null   int64  \n",
            " 8   total_vote            4915 non-null   int64  \n",
            " 9   score_pos_neg_diff    4915 non-null   int64  \n",
            " 10  score_average_rating  4915 non-null   float64\n",
            " 11  wilson_lower_bound    4915 non-null   float64\n",
            "dtypes: float64(3), int64(6), object(3)\n",
            "memory usage: 460.9+ KB\n",
            "None\n"
          ]
        }
      ]
    },
    {
      "cell_type": "markdown",
      "source": [
        "Data Preprocessing"
      ],
      "metadata": {
        "id": "Obp6Hz8jBRbX"
      }
    },
    {
      "cell_type": "code",
      "source": [
        "import re\n",
        "import nltk\n",
        "from nltk.corpus import stopwords\n",
        "nltk.download('stopwords')\n",
        "def clean_text(text):\n",
        "    text = text.lower()\n",
        "    text = re.sub(r'[^a-z\\s]', '', text)\n",
        "    stop_words = stopwords.words('english')\n",
        "    text = ' '.join([word for word in text.split() if word not in stop_words])\n",
        "    return text\n",
        "\n",
        "df['clean_text'] = df['reviewText'].astype(str).apply(clean_text)\n",
        "df['sentiment'] = df['overall'].apply(lambda x: 1 if x < 3 else 0)\n",
        "\n",
        "print(\"\\nCleaned Text Sample:\")\n",
        "print(df[['reviewText', 'clean_text', 'sentiment']].head())"
      ],
      "metadata": {
        "colab": {
          "base_uri": "https://localhost:8080/"
        },
        "id": "N14QabKyA_sx",
        "outputId": "7f75bf67-86cb-433f-973b-9b8c7a895621"
      },
      "execution_count": 60,
      "outputs": [
        {
          "output_type": "stream",
          "name": "stderr",
          "text": [
            "[nltk_data] Downloading package stopwords to /root/nltk_data...\n",
            "[nltk_data]   Package stopwords is already up-to-date!\n"
          ]
        },
        {
          "output_type": "stream",
          "name": "stdout",
          "text": [
            "\n",
            "Cleaned Text Sample:\n",
            "                                          reviewText  \\\n",
            "0                                         No issues.   \n",
            "1  Purchased this for my device, it worked as adv...   \n",
            "2  it works as expected. I should have sprung for...   \n",
            "3  This think has worked out great.Had a diff. br...   \n",
            "4  Bought it with Retail Packaging, arrived legit...   \n",
            "\n",
            "                                          clean_text  sentiment  \n",
            "0                                             issues          0  \n",
            "1  purchased device worked advertised never much ...          0  \n",
            "2  works expected sprung higher capacity think ma...          0  \n",
            "3  think worked greathad diff bran gb card went s...          0  \n",
            "4  bought retail packaging arrived legit orange e...          0  \n"
          ]
        }
      ]
    },
    {
      "cell_type": "markdown",
      "source": [
        "Bag Of Words"
      ],
      "metadata": {
        "id": "LuftSWKeCmnY"
      }
    },
    {
      "cell_type": "code",
      "source": [
        "from sklearn.feature_extraction.text import CountVectorizer\n",
        "\n",
        "vectorizer = CountVectorizer(max_features=5000)\n",
        "X_bow = vectorizer.fit_transform(df['clean_text']).toarray()"
      ],
      "metadata": {
        "id": "uqSJ5tVDBU4r"
      },
      "execution_count": 61,
      "outputs": []
    },
    {
      "cell_type": "markdown",
      "source": [
        "TF-IDF"
      ],
      "metadata": {
        "id": "buuZ_i42CpKZ"
      }
    },
    {
      "cell_type": "code",
      "source": [
        "from sklearn.feature_extraction.text import TfidfVectorizer\n",
        "\n",
        "tfidf_vectorizer = TfidfVectorizer(max_features=5000)\n",
        "X_tfidf = tfidf_vectorizer.fit_transform(df['clean_text']).toarray()"
      ],
      "metadata": {
        "id": "JkpU6F74Cczf"
      },
      "execution_count": 62,
      "outputs": []
    },
    {
      "cell_type": "markdown",
      "source": [
        "Word2Vec"
      ],
      "metadata": {
        "id": "lmkYIPXeC0rD"
      }
    },
    {
      "cell_type": "code",
      "source": [
        "!pip install gensim\n",
        "from gensim.models import Word2Vec\n",
        "\n",
        "sentences = [text.split() for text in df['clean_text']]\n",
        "\n",
        "word2vec_model = Word2Vec(sentences, vector_size=100, window=5, min_count=1, workers=4)\n",
        "word2vec_model.save(\"word2vec.model\")\n",
        "\n",
        "def get_vector(sentence):\n",
        "    words = sentence.split()\n",
        "    vector = sum([word2vec_model.wv[word] for word in words if word in word2vec_model.wv]) / len(words)\n",
        "    return vector\n",
        "\n",
        "X_w2v = [get_vector(sentence) for sentence in df['clean_text']]"
      ],
      "metadata": {
        "colab": {
          "base_uri": "https://localhost:8080/"
        },
        "id": "tG8GXdZeCs-n",
        "outputId": "39fe2c88-b9b1-4f2e-b957-b6d4b6d4f0b5"
      },
      "execution_count": 63,
      "outputs": [
        {
          "output_type": "stream",
          "name": "stdout",
          "text": [
            "Requirement already satisfied: gensim in /usr/local/lib/python3.11/dist-packages (4.3.3)\n",
            "Requirement already satisfied: numpy<2.0,>=1.18.5 in /usr/local/lib/python3.11/dist-packages (from gensim) (1.26.4)\n",
            "Requirement already satisfied: scipy<1.14.0,>=1.7.0 in /usr/local/lib/python3.11/dist-packages (from gensim) (1.13.1)\n",
            "Requirement already satisfied: smart-open>=1.8.1 in /usr/local/lib/python3.11/dist-packages (from gensim) (7.1.0)\n",
            "Requirement already satisfied: wrapt in /usr/local/lib/python3.11/dist-packages (from smart-open>=1.8.1->gensim) (1.17.2)\n"
          ]
        }
      ]
    },
    {
      "cell_type": "markdown",
      "source": [
        "Sentiment Analysis Model (Using RNN)"
      ],
      "metadata": {
        "id": "5WkJMnKWD2Zh"
      }
    },
    {
      "cell_type": "code",
      "source": [
        "from tensorflow.keras.models import Sequential\n",
        "from tensorflow.keras.layers import Embedding, SimpleRNN, Dense, Dropout\n",
        "from tensorflow.keras.optimizers import Adam\n",
        "\n",
        "# Define the RNN model\n",
        "embedding_dim = 128\n",
        "rnn_units = 64\n",
        "\n",
        "rnn_model = Sequential()\n",
        "rnn_model.add(Embedding(input_dim=5000, output_dim=embedding_dim, input_length=X_bow.shape[1]))  # Adjust for BoW, TF-IDF, or Word2Vec\n",
        "rnn_model.add(SimpleRNN(rnn_units))\n",
        "rnn_model.add(Dropout(0.5))\n",
        "rnn_model.add(Dense(1, activation='sigmoid'))  # Sigmoid for binary classification\n",
        "\n",
        "rnn_model.compile(optimizer=Adam(), loss='binary_crossentropy', metrics=['accuracy'])\n",
        "rnn_model.summary()\n"
      ],
      "metadata": {
        "colab": {
          "base_uri": "https://localhost:8080/",
          "height": 257
        },
        "id": "mt0qdl9iCuX8",
        "outputId": "fd0e1d80-eb0d-4ffe-9185-ab01483105ac"
      },
      "execution_count": 64,
      "outputs": [
        {
          "output_type": "display_data",
          "data": {
            "text/plain": [
              "\u001b[1mModel: \"sequential_1\"\u001b[0m\n"
            ],
            "text/html": [
              "<pre style=\"white-space:pre;overflow-x:auto;line-height:normal;font-family:Menlo,'DejaVu Sans Mono',consolas,'Courier New',monospace\"><span style=\"font-weight: bold\">Model: \"sequential_1\"</span>\n",
              "</pre>\n"
            ]
          },
          "metadata": {}
        },
        {
          "output_type": "display_data",
          "data": {
            "text/plain": [
              "┏━━━━━━━━━━━━━━━━━━━━━━━━━━━━━━━━━━━━━━┳━━━━━━━━━━━━━━━━━━━━━━━━━━━━━┳━━━━━━━━━━━━━━━━━┓\n",
              "┃\u001b[1m \u001b[0m\u001b[1mLayer (type)                        \u001b[0m\u001b[1m \u001b[0m┃\u001b[1m \u001b[0m\u001b[1mOutput Shape               \u001b[0m\u001b[1m \u001b[0m┃\u001b[1m \u001b[0m\u001b[1m        Param #\u001b[0m\u001b[1m \u001b[0m┃\n",
              "┡━━━━━━━━━━━━━━━━━━━━━━━━━━━━━━━━━━━━━━╇━━━━━━━━━━━━━━━━━━━━━━━━━━━━━╇━━━━━━━━━━━━━━━━━┩\n",
              "│ embedding (\u001b[38;5;33mEmbedding\u001b[0m)                │ ?                           │     \u001b[38;5;34m0\u001b[0m (unbuilt) │\n",
              "├──────────────────────────────────────┼─────────────────────────────┼─────────────────┤\n",
              "│ simple_rnn_1 (\u001b[38;5;33mSimpleRNN\u001b[0m)             │ ?                           │     \u001b[38;5;34m0\u001b[0m (unbuilt) │\n",
              "├──────────────────────────────────────┼─────────────────────────────┼─────────────────┤\n",
              "│ dropout_1 (\u001b[38;5;33mDropout\u001b[0m)                  │ ?                           │               \u001b[38;5;34m0\u001b[0m │\n",
              "├──────────────────────────────────────┼─────────────────────────────┼─────────────────┤\n",
              "│ dense_1 (\u001b[38;5;33mDense\u001b[0m)                      │ ?                           │     \u001b[38;5;34m0\u001b[0m (unbuilt) │\n",
              "└──────────────────────────────────────┴─────────────────────────────┴─────────────────┘\n"
            ],
            "text/html": [
              "<pre style=\"white-space:pre;overflow-x:auto;line-height:normal;font-family:Menlo,'DejaVu Sans Mono',consolas,'Courier New',monospace\">┏━━━━━━━━━━━━━━━━━━━━━━━━━━━━━━━━━━━━━━┳━━━━━━━━━━━━━━━━━━━━━━━━━━━━━┳━━━━━━━━━━━━━━━━━┓\n",
              "┃<span style=\"font-weight: bold\"> Layer (type)                         </span>┃<span style=\"font-weight: bold\"> Output Shape                </span>┃<span style=\"font-weight: bold\">         Param # </span>┃\n",
              "┡━━━━━━━━━━━━━━━━━━━━━━━━━━━━━━━━━━━━━━╇━━━━━━━━━━━━━━━━━━━━━━━━━━━━━╇━━━━━━━━━━━━━━━━━┩\n",
              "│ embedding (<span style=\"color: #0087ff; text-decoration-color: #0087ff\">Embedding</span>)                │ ?                           │     <span style=\"color: #00af00; text-decoration-color: #00af00\">0</span> (unbuilt) │\n",
              "├──────────────────────────────────────┼─────────────────────────────┼─────────────────┤\n",
              "│ simple_rnn_1 (<span style=\"color: #0087ff; text-decoration-color: #0087ff\">SimpleRNN</span>)             │ ?                           │     <span style=\"color: #00af00; text-decoration-color: #00af00\">0</span> (unbuilt) │\n",
              "├──────────────────────────────────────┼─────────────────────────────┼─────────────────┤\n",
              "│ dropout_1 (<span style=\"color: #0087ff; text-decoration-color: #0087ff\">Dropout</span>)                  │ ?                           │               <span style=\"color: #00af00; text-decoration-color: #00af00\">0</span> │\n",
              "├──────────────────────────────────────┼─────────────────────────────┼─────────────────┤\n",
              "│ dense_1 (<span style=\"color: #0087ff; text-decoration-color: #0087ff\">Dense</span>)                      │ ?                           │     <span style=\"color: #00af00; text-decoration-color: #00af00\">0</span> (unbuilt) │\n",
              "└──────────────────────────────────────┴─────────────────────────────┴─────────────────┘\n",
              "</pre>\n"
            ]
          },
          "metadata": {}
        },
        {
          "output_type": "display_data",
          "data": {
            "text/plain": [
              "\u001b[1m Total params: \u001b[0m\u001b[38;5;34m0\u001b[0m (0.00 B)\n"
            ],
            "text/html": [
              "<pre style=\"white-space:pre;overflow-x:auto;line-height:normal;font-family:Menlo,'DejaVu Sans Mono',consolas,'Courier New',monospace\"><span style=\"font-weight: bold\"> Total params: </span><span style=\"color: #00af00; text-decoration-color: #00af00\">0</span> (0.00 B)\n",
              "</pre>\n"
            ]
          },
          "metadata": {}
        },
        {
          "output_type": "display_data",
          "data": {
            "text/plain": [
              "\u001b[1m Trainable params: \u001b[0m\u001b[38;5;34m0\u001b[0m (0.00 B)\n"
            ],
            "text/html": [
              "<pre style=\"white-space:pre;overflow-x:auto;line-height:normal;font-family:Menlo,'DejaVu Sans Mono',consolas,'Courier New',monospace\"><span style=\"font-weight: bold\"> Trainable params: </span><span style=\"color: #00af00; text-decoration-color: #00af00\">0</span> (0.00 B)\n",
              "</pre>\n"
            ]
          },
          "metadata": {}
        },
        {
          "output_type": "display_data",
          "data": {
            "text/plain": [
              "\u001b[1m Non-trainable params: \u001b[0m\u001b[38;5;34m0\u001b[0m (0.00 B)\n"
            ],
            "text/html": [
              "<pre style=\"white-space:pre;overflow-x:auto;line-height:normal;font-family:Menlo,'DejaVu Sans Mono',consolas,'Courier New',monospace\"><span style=\"font-weight: bold\"> Non-trainable params: </span><span style=\"color: #00af00; text-decoration-color: #00af00\">0</span> (0.00 B)\n",
              "</pre>\n"
            ]
          },
          "metadata": {}
        }
      ]
    },
    {
      "cell_type": "markdown",
      "source": [
        "Experiment Setup (for RNN)"
      ],
      "metadata": {
        "id": "w8U2LhoAD5Fb"
      }
    },
    {
      "cell_type": "code",
      "source": [
        "from sklearn.model_selection import train_test_split\n",
        "# Define the sentiment labels based on 'overall' column\n",
        "y = df['overall'].apply(lambda x: 1 if x < 3 else 0)  # 1 for negative, 0 for positive\n",
        "\n",
        "X_bow_train, X_bow_test, y_bow_train, y_bow_test = train_test_split(X_bow, y, test_size=0.2, random_state=42)\n",
        "X_tfidf_train, X_tfidf_test, y_tfidf_train, y_tfidf_test = train_test_split(X_tfidf, y, test_size=0.2, random_state=42)\n",
        "X_w2v_train, X_w2v_test, y_w2v_train, y_w2v_test = train_test_split(X_w2v, y, test_size=0.2, random_state=42)"
      ],
      "metadata": {
        "id": "rY8JS6YXD7hs"
      },
      "execution_count": 65,
      "outputs": []
    },
    {
      "cell_type": "markdown",
      "source": [
        "Model Training and Evaluation (for RNN)"
      ],
      "metadata": {
        "id": "cqDZP9G_EHm8"
      }
    },
    {
      "cell_type": "code",
      "source": [
        "from sklearn.metrics import accuracy_score, classification_report\n",
        "rnn_model.fit(X_bow_train, y_bow_train, epochs=5, batch_size=32, validation_data=(X_bow_test, y_bow_test))\n",
        "rnn_y_bow_pred = (rnn_model.predict(X_bow_test) > 0.5).astype(int)\n",
        "print(\"BoW RNN Accuracy:\", accuracy_score(y_bow_test, rnn_y_bow_pred))\n",
        "print(\"BoW RNN Classification Report:\")\n",
        "print(classification_report(y_bow_test, rnn_y_bow_pred))"
      ],
      "metadata": {
        "colab": {
          "base_uri": "https://localhost:8080/"
        },
        "id": "19wzjP1VD89p",
        "outputId": "5ba291e2-cb47-40b5-c78a-88d0ca467d10"
      },
      "execution_count": 66,
      "outputs": [
        {
          "output_type": "stream",
          "name": "stdout",
          "text": [
            "Epoch 1/5\n",
            "\u001b[1m123/123\u001b[0m \u001b[32m━━━━━━━━━━━━━━━━━━━━\u001b[0m\u001b[37m\u001b[0m \u001b[1m57s\u001b[0m 407ms/step - accuracy: 0.8975 - loss: 0.3210 - val_accuracy: 0.9288 - val_loss: 0.2602\n",
            "Epoch 2/5\n",
            "\u001b[1m123/123\u001b[0m \u001b[32m━━━━━━━━━━━━━━━━━━━━\u001b[0m\u001b[37m\u001b[0m \u001b[1m71s\u001b[0m 340ms/step - accuracy: 0.9387 - loss: 0.2516 - val_accuracy: 0.9288 - val_loss: 0.2572\n",
            "Epoch 3/5\n",
            "\u001b[1m123/123\u001b[0m \u001b[32m━━━━━━━━━━━━━━━━━━━━\u001b[0m\u001b[37m\u001b[0m \u001b[1m82s\u001b[0m 338ms/step - accuracy: 0.9315 - loss: 0.2598 - val_accuracy: 0.9288 - val_loss: 0.2609\n",
            "Epoch 4/5\n",
            "\u001b[1m123/123\u001b[0m \u001b[32m━━━━━━━━━━━━━━━━━━━━\u001b[0m\u001b[37m\u001b[0m \u001b[1m44s\u001b[0m 356ms/step - accuracy: 0.9407 - loss: 0.2363 - val_accuracy: 0.9288 - val_loss: 0.2576\n",
            "Epoch 5/5\n",
            "\u001b[1m123/123\u001b[0m \u001b[32m━━━━━━━━━━━━━━━━━━━━\u001b[0m\u001b[37m\u001b[0m \u001b[1m42s\u001b[0m 338ms/step - accuracy: 0.9330 - loss: 0.2541 - val_accuracy: 0.9288 - val_loss: 0.2568\n",
            "\u001b[1m31/31\u001b[0m \u001b[32m━━━━━━━━━━━━━━━━━━━━\u001b[0m\u001b[37m\u001b[0m \u001b[1m3s\u001b[0m 100ms/step\n",
            "BoW RNN Accuracy: 0.9287894201424212\n",
            "BoW RNN Classification Report:\n",
            "              precision    recall  f1-score   support\n",
            "\n",
            "           0       0.93      1.00      0.96       913\n",
            "           1       0.00      0.00      0.00        70\n",
            "\n",
            "    accuracy                           0.93       983\n",
            "   macro avg       0.46      0.50      0.48       983\n",
            "weighted avg       0.86      0.93      0.89       983\n",
            "\n"
          ]
        }
      ]
    },
    {
      "cell_type": "code",
      "source": [
        "rnn_model.fit(X_tfidf_train, y_tfidf_train, epochs=5, batch_size=32, validation_data=(X_tfidf_test, y_tfidf_test))\n",
        "rnn_y_tfidf_pred = (rnn_model.predict(X_tfidf_test) > 0.5).astype(int)\n",
        "print(\"TF-IDF RNN Accuracy:\", accuracy_score(y_tfidf_test, rnn_y_tfidf_pred))\n",
        "print(\"TF-IDF RNN Classification Report:\")\n",
        "print(classification_report(y_tfidf_test, rnn_y_tfidf_pred))"
      ],
      "metadata": {
        "colab": {
          "base_uri": "https://localhost:8080/"
        },
        "id": "sbIhxnBgMhwC",
        "outputId": "fa881475-6000-47e3-fe96-e1633d7cb306"
      },
      "execution_count": 67,
      "outputs": [
        {
          "output_type": "stream",
          "name": "stdout",
          "text": [
            "Epoch 1/5\n",
            "\u001b[1m123/123\u001b[0m \u001b[32m━━━━━━━━━━━━━━━━━━━━\u001b[0m\u001b[37m\u001b[0m \u001b[1m47s\u001b[0m 369ms/step - accuracy: 0.9351 - loss: 0.2528 - val_accuracy: 0.9288 - val_loss: 0.2579\n",
            "Epoch 2/5\n",
            "\u001b[1m123/123\u001b[0m \u001b[32m━━━━━━━━━━━━━━━━━━━━\u001b[0m\u001b[37m\u001b[0m \u001b[1m80s\u001b[0m 358ms/step - accuracy: 0.9340 - loss: 0.2507 - val_accuracy: 0.9288 - val_loss: 0.2644\n",
            "Epoch 3/5\n",
            "\u001b[1m123/123\u001b[0m \u001b[32m━━━━━━━━━━━━━━━━━━━━\u001b[0m\u001b[37m\u001b[0m \u001b[1m80s\u001b[0m 338ms/step - accuracy: 0.9355 - loss: 0.2467 - val_accuracy: 0.9288 - val_loss: 0.2768\n",
            "Epoch 4/5\n",
            "\u001b[1m123/123\u001b[0m \u001b[32m━━━━━━━━━━━━━━━━━━━━\u001b[0m\u001b[37m\u001b[0m \u001b[1m82s\u001b[0m 338ms/step - accuracy: 0.9341 - loss: 0.2542 - val_accuracy: 0.9288 - val_loss: 0.2608\n",
            "Epoch 5/5\n",
            "\u001b[1m123/123\u001b[0m \u001b[32m━━━━━━━━━━━━━━━━━━━━\u001b[0m\u001b[37m\u001b[0m \u001b[1m84s\u001b[0m 357ms/step - accuracy: 0.9400 - loss: 0.2370 - val_accuracy: 0.9288 - val_loss: 0.2571\n",
            "\u001b[1m31/31\u001b[0m \u001b[32m━━━━━━━━━━━━━━━━━━━━\u001b[0m\u001b[37m\u001b[0m \u001b[1m4s\u001b[0m 101ms/step\n",
            "TF-IDF RNN Accuracy: 0.9287894201424212\n",
            "TF-IDF RNN Classification Report:\n",
            "              precision    recall  f1-score   support\n",
            "\n",
            "           0       0.93      1.00      0.96       913\n",
            "           1       0.00      0.00      0.00        70\n",
            "\n",
            "    accuracy                           0.93       983\n",
            "   macro avg       0.46      0.50      0.48       983\n",
            "weighted avg       0.86      0.93      0.89       983\n",
            "\n"
          ]
        }
      ]
    },
    {
      "cell_type": "code",
      "source": [
        "from tensorflow.keras.preprocessing.sequence import pad_sequences\n",
        "from sklearn.metrics import accuracy_score, classification_report\n",
        "\n",
        "X_w2v_train_padded = pad_sequences(X_w2v_train, padding='post', maxlen=100)\n",
        "X_w2v_test_padded = pad_sequences(X_w2v_test, padding='post', maxlen=100)\n",
        "rnn_model.fit(X_w2v_train_padded, y_w2v_train, epochs=5, batch_size=32, validation_data=(X_w2v_test_padded, y_w2v_test))\n",
        "\n",
        "rnn_y_w2v_pred = (rnn_model.predict(X_w2v_test_padded) > 0.5).astype(int)\n",
        "\n",
        "print(\"Word2Vec RNN Accuracy:\", accuracy_score(y_w2v_test, rnn_y_w2v_pred))\n",
        "print(\"Word2Vec RNN Classification Report:\")\n",
        "print(classification_report(y_w2v_test, rnn_y_w2v_pred))"
      ],
      "metadata": {
        "colab": {
          "base_uri": "https://localhost:8080/"
        },
        "id": "dXYAfa3dJuoK",
        "outputId": "3d03d7e4-6179-49de-c76d-066a4ee9921d"
      },
      "execution_count": 68,
      "outputs": [
        {
          "output_type": "stream",
          "name": "stdout",
          "text": [
            "Epoch 1/5\n",
            "\u001b[1m123/123\u001b[0m \u001b[32m━━━━━━━━━━━━━━━━━━━━\u001b[0m\u001b[37m\u001b[0m \u001b[1m5s\u001b[0m 26ms/step - accuracy: 0.9424 - loss: 0.2239 - val_accuracy: 0.9288 - val_loss: 0.2567\n",
            "Epoch 2/5\n",
            "\u001b[1m123/123\u001b[0m \u001b[32m━━━━━━━━━━━━━━━━━━━━\u001b[0m\u001b[37m\u001b[0m \u001b[1m3s\u001b[0m 13ms/step - accuracy: 0.9362 - loss: 0.2421 - val_accuracy: 0.9288 - val_loss: 0.2574\n",
            "Epoch 3/5\n",
            "\u001b[1m123/123\u001b[0m \u001b[32m━━━━━━━━━━━━━━━━━━━━\u001b[0m\u001b[37m\u001b[0m \u001b[1m2s\u001b[0m 10ms/step - accuracy: 0.9414 - loss: 0.2349 - val_accuracy: 0.9288 - val_loss: 0.2562\n",
            "Epoch 4/5\n",
            "\u001b[1m123/123\u001b[0m \u001b[32m━━━━━━━━━━━━━━━━━━━━\u001b[0m\u001b[37m\u001b[0m \u001b[1m1s\u001b[0m 10ms/step - accuracy: 0.9359 - loss: 0.2526 - val_accuracy: 0.9288 - val_loss: 0.2597\n",
            "Epoch 5/5\n",
            "\u001b[1m123/123\u001b[0m \u001b[32m━━━━━━━━━━━━━━━━━━━━\u001b[0m\u001b[37m\u001b[0m \u001b[1m1s\u001b[0m 10ms/step - accuracy: 0.9314 - loss: 0.2636 - val_accuracy: 0.9288 - val_loss: 0.2521\n",
            "\u001b[1m31/31\u001b[0m \u001b[32m━━━━━━━━━━━━━━━━━━━━\u001b[0m\u001b[37m\u001b[0m \u001b[1m1s\u001b[0m 12ms/step\n",
            "Word2Vec RNN Accuracy: 0.9287894201424212\n",
            "Word2Vec RNN Classification Report:\n",
            "              precision    recall  f1-score   support\n",
            "\n",
            "           0       0.93      1.00      0.96       913\n",
            "           1       0.00      0.00      0.00        70\n",
            "\n",
            "    accuracy                           0.93       983\n",
            "   macro avg       0.46      0.50      0.48       983\n",
            "weighted avg       0.86      0.93      0.89       983\n",
            "\n"
          ]
        }
      ]
    },
    {
      "cell_type": "markdown",
      "source": [
        "Final Sentiment Analysis Model (Best Feature Representation)"
      ],
      "metadata": {
        "id": "Lz7hZm8PFaA7"
      }
    },
    {
      "cell_type": "code",
      "source": [
        "final_rnn_model = Sequential()\n",
        "final_rnn_model.add(Embedding(input_dim=5000, output_dim=embedding_dim, input_length=X_tfidf.shape[1]))\n",
        "final_rnn_model.add(SimpleRNN(rnn_units))\n",
        "final_rnn_model.add(Dropout(0.5))\n",
        "final_rnn_model.add(Dense(1, activation='sigmoid'))\n",
        "\n",
        "final_rnn_model.compile(optimizer=Adam(), loss='binary_crossentropy', metrics=['accuracy'])\n",
        "final_rnn_model.fit(X_tfidf_train, y_tfidf_train, epochs=5, batch_size=32, validation_data=(X_tfidf_test, y_tfidf_test))\n",
        "\n",
        "final_rnn_y_pred = (final_rnn_model.predict(X_tfidf_test) > 0.5).astype(int)\n",
        "\n",
        "print(\"Final Model Accuracy:\", accuracy_score(y_tfidf_test, final_rnn_y_pred))\n",
        "print(\"Final Model Classification Report:\")\n",
        "print(classification_report(y_tfidf_test, final_rnn_y_pred))"
      ],
      "metadata": {
        "colab": {
          "base_uri": "https://localhost:8080/"
        },
        "id": "Lf9dcG6AEMLK",
        "outputId": "32e62346-eda2-4eb5-ec3d-56aafe8d8968"
      },
      "execution_count": 69,
      "outputs": [
        {
          "output_type": "stream",
          "name": "stdout",
          "text": [
            "Epoch 1/5\n",
            "\u001b[1m123/123\u001b[0m \u001b[32m━━━━━━━━━━━━━━━━━━━━\u001b[0m\u001b[37m\u001b[0m \u001b[1m48s\u001b[0m 367ms/step - accuracy: 0.9345 - loss: 0.2926 - val_accuracy: 0.9288 - val_loss: 0.2588\n",
            "Epoch 2/5\n",
            "\u001b[1m123/123\u001b[0m \u001b[32m━━━━━━━━━━━━━━━━━━━━\u001b[0m\u001b[37m\u001b[0m \u001b[1m77s\u001b[0m 337ms/step - accuracy: 0.9389 - loss: 0.2492 - val_accuracy: 0.9288 - val_loss: 0.2601\n",
            "Epoch 3/5\n",
            "\u001b[1m123/123\u001b[0m \u001b[32m━━━━━━━━━━━━━━━━━━━━\u001b[0m\u001b[37m\u001b[0m \u001b[1m82s\u001b[0m 337ms/step - accuracy: 0.9397 - loss: 0.2388 - val_accuracy: 0.9288 - val_loss: 0.2599\n",
            "Epoch 4/5\n",
            "\u001b[1m123/123\u001b[0m \u001b[32m━━━━━━━━━━━━━━━━━━━━\u001b[0m\u001b[37m\u001b[0m \u001b[1m82s\u001b[0m 337ms/step - accuracy: 0.9365 - loss: 0.2489 - val_accuracy: 0.9288 - val_loss: 0.2573\n",
            "Epoch 5/5\n",
            "\u001b[1m123/123\u001b[0m \u001b[32m━━━━━━━━━━━━━━━━━━━━\u001b[0m\u001b[37m\u001b[0m \u001b[1m41s\u001b[0m 337ms/step - accuracy: 0.9358 - loss: 0.2472 - val_accuracy: 0.9288 - val_loss: 0.2594\n",
            "\u001b[1m31/31\u001b[0m \u001b[32m━━━━━━━━━━━━━━━━━━━━\u001b[0m\u001b[37m\u001b[0m \u001b[1m4s\u001b[0m 102ms/step\n",
            "Final Model Accuracy: 0.9287894201424212\n",
            "Final Model Classification Report:\n",
            "              precision    recall  f1-score   support\n",
            "\n",
            "           0       0.93      1.00      0.96       913\n",
            "           1       0.00      0.00      0.00        70\n",
            "\n",
            "    accuracy                           0.93       983\n",
            "   macro avg       0.46      0.50      0.48       983\n",
            "weighted avg       0.86      0.93      0.89       983\n",
            "\n"
          ]
        }
      ]
    },
    {
      "cell_type": "markdown",
      "source": [
        "LSTM"
      ],
      "metadata": {
        "id": "TMnAH1VfF6c_"
      }
    },
    {
      "cell_type": "code",
      "source": [
        "from tensorflow.keras.models import Sequential\n",
        "from tensorflow.keras.layers import Embedding, LSTM, Dense, Dropout\n",
        "from tensorflow.keras.optimizers import Adam\n",
        "\n",
        "embedding_dim = 128\n",
        "lstm_units = 64\n",
        "\n",
        "lstm_model = Sequential()\n",
        "lstm_model.add(Embedding(input_dim=5000, output_dim=embedding_dim, input_length=X_bow.shape[1]))\n",
        "lstm_model.add(LSTM(lstm_units))\n",
        "lstm_model.add(Dropout(0.5))\n",
        "lstm_model.add(Dense(1, activation='sigmoid'))\n",
        "\n",
        "lstm_model.compile(optimizer=Adam(), loss='binary_crossentropy', metrics=['accuracy'])\n",
        "lstm_model.summary()"
      ],
      "metadata": {
        "colab": {
          "base_uri": "https://localhost:8080/",
          "height": 257
        },
        "id": "VBqNjMPjF7ns",
        "outputId": "7a41bd76-c504-48a4-9a5a-9b4ca76d3734"
      },
      "execution_count": 70,
      "outputs": [
        {
          "output_type": "display_data",
          "data": {
            "text/plain": [
              "\u001b[1mModel: \"sequential_3\"\u001b[0m\n"
            ],
            "text/html": [
              "<pre style=\"white-space:pre;overflow-x:auto;line-height:normal;font-family:Menlo,'DejaVu Sans Mono',consolas,'Courier New',monospace\"><span style=\"font-weight: bold\">Model: \"sequential_3\"</span>\n",
              "</pre>\n"
            ]
          },
          "metadata": {}
        },
        {
          "output_type": "display_data",
          "data": {
            "text/plain": [
              "┏━━━━━━━━━━━━━━━━━━━━━━━━━━━━━━━━━━━━━━┳━━━━━━━━━━━━━━━━━━━━━━━━━━━━━┳━━━━━━━━━━━━━━━━━┓\n",
              "┃\u001b[1m \u001b[0m\u001b[1mLayer (type)                        \u001b[0m\u001b[1m \u001b[0m┃\u001b[1m \u001b[0m\u001b[1mOutput Shape               \u001b[0m\u001b[1m \u001b[0m┃\u001b[1m \u001b[0m\u001b[1m        Param #\u001b[0m\u001b[1m \u001b[0m┃\n",
              "┡━━━━━━━━━━━━━━━━━━━━━━━━━━━━━━━━━━━━━━╇━━━━━━━━━━━━━━━━━━━━━━━━━━━━━╇━━━━━━━━━━━━━━━━━┩\n",
              "│ embedding_2 (\u001b[38;5;33mEmbedding\u001b[0m)              │ ?                           │     \u001b[38;5;34m0\u001b[0m (unbuilt) │\n",
              "├──────────────────────────────────────┼─────────────────────────────┼─────────────────┤\n",
              "│ lstm (\u001b[38;5;33mLSTM\u001b[0m)                          │ ?                           │     \u001b[38;5;34m0\u001b[0m (unbuilt) │\n",
              "├──────────────────────────────────────┼─────────────────────────────┼─────────────────┤\n",
              "│ dropout_3 (\u001b[38;5;33mDropout\u001b[0m)                  │ ?                           │               \u001b[38;5;34m0\u001b[0m │\n",
              "├──────────────────────────────────────┼─────────────────────────────┼─────────────────┤\n",
              "│ dense_3 (\u001b[38;5;33mDense\u001b[0m)                      │ ?                           │     \u001b[38;5;34m0\u001b[0m (unbuilt) │\n",
              "└──────────────────────────────────────┴─────────────────────────────┴─────────────────┘\n"
            ],
            "text/html": [
              "<pre style=\"white-space:pre;overflow-x:auto;line-height:normal;font-family:Menlo,'DejaVu Sans Mono',consolas,'Courier New',monospace\">┏━━━━━━━━━━━━━━━━━━━━━━━━━━━━━━━━━━━━━━┳━━━━━━━━━━━━━━━━━━━━━━━━━━━━━┳━━━━━━━━━━━━━━━━━┓\n",
              "┃<span style=\"font-weight: bold\"> Layer (type)                         </span>┃<span style=\"font-weight: bold\"> Output Shape                </span>┃<span style=\"font-weight: bold\">         Param # </span>┃\n",
              "┡━━━━━━━━━━━━━━━━━━━━━━━━━━━━━━━━━━━━━━╇━━━━━━━━━━━━━━━━━━━━━━━━━━━━━╇━━━━━━━━━━━━━━━━━┩\n",
              "│ embedding_2 (<span style=\"color: #0087ff; text-decoration-color: #0087ff\">Embedding</span>)              │ ?                           │     <span style=\"color: #00af00; text-decoration-color: #00af00\">0</span> (unbuilt) │\n",
              "├──────────────────────────────────────┼─────────────────────────────┼─────────────────┤\n",
              "│ lstm (<span style=\"color: #0087ff; text-decoration-color: #0087ff\">LSTM</span>)                          │ ?                           │     <span style=\"color: #00af00; text-decoration-color: #00af00\">0</span> (unbuilt) │\n",
              "├──────────────────────────────────────┼─────────────────────────────┼─────────────────┤\n",
              "│ dropout_3 (<span style=\"color: #0087ff; text-decoration-color: #0087ff\">Dropout</span>)                  │ ?                           │               <span style=\"color: #00af00; text-decoration-color: #00af00\">0</span> │\n",
              "├──────────────────────────────────────┼─────────────────────────────┼─────────────────┤\n",
              "│ dense_3 (<span style=\"color: #0087ff; text-decoration-color: #0087ff\">Dense</span>)                      │ ?                           │     <span style=\"color: #00af00; text-decoration-color: #00af00\">0</span> (unbuilt) │\n",
              "└──────────────────────────────────────┴─────────────────────────────┴─────────────────┘\n",
              "</pre>\n"
            ]
          },
          "metadata": {}
        },
        {
          "output_type": "display_data",
          "data": {
            "text/plain": [
              "\u001b[1m Total params: \u001b[0m\u001b[38;5;34m0\u001b[0m (0.00 B)\n"
            ],
            "text/html": [
              "<pre style=\"white-space:pre;overflow-x:auto;line-height:normal;font-family:Menlo,'DejaVu Sans Mono',consolas,'Courier New',monospace\"><span style=\"font-weight: bold\"> Total params: </span><span style=\"color: #00af00; text-decoration-color: #00af00\">0</span> (0.00 B)\n",
              "</pre>\n"
            ]
          },
          "metadata": {}
        },
        {
          "output_type": "display_data",
          "data": {
            "text/plain": [
              "\u001b[1m Trainable params: \u001b[0m\u001b[38;5;34m0\u001b[0m (0.00 B)\n"
            ],
            "text/html": [
              "<pre style=\"white-space:pre;overflow-x:auto;line-height:normal;font-family:Menlo,'DejaVu Sans Mono',consolas,'Courier New',monospace\"><span style=\"font-weight: bold\"> Trainable params: </span><span style=\"color: #00af00; text-decoration-color: #00af00\">0</span> (0.00 B)\n",
              "</pre>\n"
            ]
          },
          "metadata": {}
        },
        {
          "output_type": "display_data",
          "data": {
            "text/plain": [
              "\u001b[1m Non-trainable params: \u001b[0m\u001b[38;5;34m0\u001b[0m (0.00 B)\n"
            ],
            "text/html": [
              "<pre style=\"white-space:pre;overflow-x:auto;line-height:normal;font-family:Menlo,'DejaVu Sans Mono',consolas,'Courier New',monospace\"><span style=\"font-weight: bold\"> Non-trainable params: </span><span style=\"color: #00af00; text-decoration-color: #00af00\">0</span> (0.00 B)\n",
              "</pre>\n"
            ]
          },
          "metadata": {}
        }
      ]
    },
    {
      "cell_type": "code",
      "source": [
        "lstm_model.fit(X_bow_train, y_bow_train, epochs=5, batch_size=32, validation_data=(X_bow_test, y_bow_test))\n",
        "lstm_y_bow_pred = (lstm_model.predict(X_bow_test) > 0.5).astype(int)\n",
        "print(\"BoW LSTM Accuracy:\", accuracy_score(y_bow_test, lstm_y_bow_pred))\n",
        "print(\"BoW LSTM Classification Report:\")\n",
        "print(classification_report(y_bow_test, lstm_y_bow_pred))"
      ],
      "metadata": {
        "colab": {
          "base_uri": "https://localhost:8080/"
        },
        "id": "CnNTpoanF8vX",
        "outputId": "b9f86d71-12c1-4c96-b05a-568569867999"
      },
      "execution_count": 71,
      "outputs": [
        {
          "output_type": "stream",
          "name": "stdout",
          "text": [
            "Epoch 1/5\n",
            "\u001b[1m123/123\u001b[0m \u001b[32m━━━━━━━━━━━━━━━━━━━━\u001b[0m\u001b[37m\u001b[0m \u001b[1m23s\u001b[0m 164ms/step - accuracy: 0.9222 - loss: 0.3243 - val_accuracy: 0.9288 - val_loss: 0.2572\n",
            "Epoch 2/5\n",
            "\u001b[1m123/123\u001b[0m \u001b[32m━━━━━━━━━━━━━━━━━━━━\u001b[0m\u001b[37m\u001b[0m \u001b[1m18s\u001b[0m 149ms/step - accuracy: 0.9319 - loss: 0.2508 - val_accuracy: 0.9288 - val_loss: 0.2601\n",
            "Epoch 3/5\n",
            "\u001b[1m123/123\u001b[0m \u001b[32m━━━━━━━━━━━━━━━━━━━━\u001b[0m\u001b[37m\u001b[0m \u001b[1m20s\u001b[0m 163ms/step - accuracy: 0.9381 - loss: 0.2357 - val_accuracy: 0.9288 - val_loss: 0.2570\n",
            "Epoch 4/5\n",
            "\u001b[1m123/123\u001b[0m \u001b[32m━━━━━━━━━━━━━━━━━━━━\u001b[0m\u001b[37m\u001b[0m \u001b[1m19s\u001b[0m 149ms/step - accuracy: 0.9393 - loss: 0.2351 - val_accuracy: 0.9288 - val_loss: 0.2572\n",
            "Epoch 5/5\n",
            "\u001b[1m123/123\u001b[0m \u001b[32m━━━━━━━━━━━━━━━━━━━━\u001b[0m\u001b[37m\u001b[0m \u001b[1m22s\u001b[0m 157ms/step - accuracy: 0.9368 - loss: 0.2423 - val_accuracy: 0.9288 - val_loss: 0.2580\n",
            "\u001b[1m31/31\u001b[0m \u001b[32m━━━━━━━━━━━━━━━━━━━━\u001b[0m\u001b[37m\u001b[0m \u001b[1m2s\u001b[0m 56ms/step\n",
            "BoW LSTM Accuracy: 0.9287894201424212\n",
            "BoW LSTM Classification Report:\n",
            "              precision    recall  f1-score   support\n",
            "\n",
            "           0       0.93      1.00      0.96       913\n",
            "           1       0.00      0.00      0.00        70\n",
            "\n",
            "    accuracy                           0.93       983\n",
            "   macro avg       0.46      0.50      0.48       983\n",
            "weighted avg       0.86      0.93      0.89       983\n",
            "\n"
          ]
        }
      ]
    },
    {
      "cell_type": "code",
      "source": [
        "lstm_model.fit(X_tfidf_train, y_tfidf_train, epochs=5, batch_size=32, validation_data=(X_tfidf_test, y_tfidf_test))\n",
        "lstm_y_tfidf_pred = (lstm_model.predict(X_tfidf_test) > 0.5).astype(int)\n",
        "print(\"TF-IDF LSTM Accuracy:\", accuracy_score(y_tfidf_test, lstm_y_tfidf_pred))\n",
        "print(\"TF-IDF LSTM Classification Report:\")\n",
        "print(classification_report(y_tfidf_test, lstm_y_tfidf_pred))"
      ],
      "metadata": {
        "colab": {
          "base_uri": "https://localhost:8080/"
        },
        "id": "i_p0mxoFMpyW",
        "outputId": "16c0b6a9-a477-486d-f399-2a93a0fb266a"
      },
      "execution_count": 72,
      "outputs": [
        {
          "output_type": "stream",
          "name": "stdout",
          "text": [
            "Epoch 1/5\n",
            "\u001b[1m123/123\u001b[0m \u001b[32m━━━━━━━━━━━━━━━━━━━━\u001b[0m\u001b[37m\u001b[0m \u001b[1m19s\u001b[0m 151ms/step - accuracy: 0.9320 - loss: 0.2541 - val_accuracy: 0.9288 - val_loss: 0.2576\n",
            "Epoch 2/5\n",
            "\u001b[1m123/123\u001b[0m \u001b[32m━━━━━━━━━━━━━━━━━━━━\u001b[0m\u001b[37m\u001b[0m \u001b[1m21s\u001b[0m 152ms/step - accuracy: 0.9326 - loss: 0.2510 - val_accuracy: 0.9288 - val_loss: 0.2568\n",
            "Epoch 3/5\n",
            "\u001b[1m123/123\u001b[0m \u001b[32m━━━━━━━━━━━━━━━━━━━━\u001b[0m\u001b[37m\u001b[0m \u001b[1m19s\u001b[0m 156ms/step - accuracy: 0.9293 - loss: 0.2578 - val_accuracy: 0.9288 - val_loss: 0.2582\n",
            "Epoch 4/5\n",
            "\u001b[1m123/123\u001b[0m \u001b[32m━━━━━━━━━━━━━━━━━━━━\u001b[0m\u001b[37m\u001b[0m \u001b[1m21s\u001b[0m 156ms/step - accuracy: 0.9344 - loss: 0.2490 - val_accuracy: 0.9288 - val_loss: 0.2568\n",
            "Epoch 5/5\n",
            "\u001b[1m123/123\u001b[0m \u001b[32m━━━━━━━━━━━━━━━━━━━━\u001b[0m\u001b[37m\u001b[0m \u001b[1m20s\u001b[0m 150ms/step - accuracy: 0.9377 - loss: 0.2386 - val_accuracy: 0.9288 - val_loss: 0.2568\n",
            "\u001b[1m31/31\u001b[0m \u001b[32m━━━━━━━━━━━━━━━━━━━━\u001b[0m\u001b[37m\u001b[0m \u001b[1m3s\u001b[0m 83ms/step\n",
            "TF-IDF LSTM Accuracy: 0.9287894201424212\n",
            "TF-IDF LSTM Classification Report:\n",
            "              precision    recall  f1-score   support\n",
            "\n",
            "           0       0.93      1.00      0.96       913\n",
            "           1       0.00      0.00      0.00        70\n",
            "\n",
            "    accuracy                           0.93       983\n",
            "   macro avg       0.46      0.50      0.48       983\n",
            "weighted avg       0.86      0.93      0.89       983\n",
            "\n"
          ]
        }
      ]
    },
    {
      "cell_type": "code",
      "source": [
        "from tensorflow.keras.preprocessing.sequence import pad_sequences\n",
        "from tensorflow.keras.models import Sequential\n",
        "from tensorflow.keras.layers import Embedding, SimpleRNN, Dense, Dropout\n",
        "from tensorflow.keras.optimizers import Adam\n",
        "from sklearn.metrics import accuracy_score, classification_report\n",
        "\n",
        "X_w2v = np.array(X_w2v)\n",
        "\n",
        "X_w2v_train_padded = pad_sequences(X_w2v_train, padding='post', maxlen=100)\n",
        "X_w2v_test_padded = pad_sequences(X_w2v_test, padding='post', maxlen=100)\n",
        "\n",
        "rnn_model.compile(optimizer=Adam(), loss='binary_crossentropy', metrics=['accuracy'])\n",
        "\n",
        "rnn_model.fit(X_w2v_train_padded, y_w2v_train, epochs=5, batch_size=32, validation_data=(X_w2v_test_padded, y_w2v_test))\n",
        "\n",
        "rnn_y_w2v_pred = (rnn_model.predict(X_w2v_test_padded) > 0.5).astype(int)\n",
        "\n",
        "print(\"Word2Vec RNN Accuracy:\", accuracy_score(y_w2v_test, rnn_y_w2v_pred))\n",
        "print(\"Word2Vec RNN Classification Report:\")\n",
        "print(classification_report(y_w2v_test, rnn_y_w2v_pred))"
      ],
      "metadata": {
        "colab": {
          "base_uri": "https://localhost:8080/"
        },
        "id": "-ppkOWI8MsBw",
        "outputId": "a99e9a0e-0502-4d1d-ceb6-f36a31379195"
      },
      "execution_count": 73,
      "outputs": [
        {
          "output_type": "stream",
          "name": "stdout",
          "text": [
            "Epoch 1/5\n",
            "\u001b[1m123/123\u001b[0m \u001b[32m━━━━━━━━━━━━━━━━━━━━\u001b[0m\u001b[37m\u001b[0m \u001b[1m6s\u001b[0m 26ms/step - accuracy: 0.9315 - loss: 0.2503 - val_accuracy: 0.9288 - val_loss: 0.2564\n",
            "Epoch 2/5\n",
            "\u001b[1m123/123\u001b[0m \u001b[32m━━━━━━━━━━━━━━━━━━━━\u001b[0m\u001b[37m\u001b[0m \u001b[1m2s\u001b[0m 12ms/step - accuracy: 0.9392 - loss: 0.2340 - val_accuracy: 0.9288 - val_loss: 0.2467\n",
            "Epoch 3/5\n",
            "\u001b[1m123/123\u001b[0m \u001b[32m━━━━━━━━━━━━━━━━━━━━\u001b[0m\u001b[37m\u001b[0m \u001b[1m3s\u001b[0m 12ms/step - accuracy: 0.9370 - loss: 0.2462 - val_accuracy: 0.9288 - val_loss: 0.2635\n",
            "Epoch 4/5\n",
            "\u001b[1m123/123\u001b[0m \u001b[32m━━━━━━━━━━━━━━━━━━━━\u001b[0m\u001b[37m\u001b[0m \u001b[1m1s\u001b[0m 10ms/step - accuracy: 0.9402 - loss: 0.2351 - val_accuracy: 0.9288 - val_loss: 0.2478\n",
            "Epoch 5/5\n",
            "\u001b[1m123/123\u001b[0m \u001b[32m━━━━━━━━━━━━━━━━━━━━\u001b[0m\u001b[37m\u001b[0m \u001b[1m1s\u001b[0m 10ms/step - accuracy: 0.9284 - loss: 0.2589 - val_accuracy: 0.9288 - val_loss: 0.2559\n",
            "\u001b[1m31/31\u001b[0m \u001b[32m━━━━━━━━━━━━━━━━━━━━\u001b[0m\u001b[37m\u001b[0m \u001b[1m1s\u001b[0m 13ms/step\n",
            "Word2Vec RNN Accuracy: 0.9287894201424212\n",
            "Word2Vec RNN Classification Report:\n",
            "              precision    recall  f1-score   support\n",
            "\n",
            "           0       0.93      1.00      0.96       913\n",
            "           1       0.00      0.00      0.00        70\n",
            "\n",
            "    accuracy                           0.93       983\n",
            "   macro avg       0.46      0.50      0.48       983\n",
            "weighted avg       0.86      0.93      0.89       983\n",
            "\n"
          ]
        }
      ]
    },
    {
      "cell_type": "markdown",
      "source": [
        "GRU"
      ],
      "metadata": {
        "id": "_Ai-mZjuF-6O"
      }
    },
    {
      "cell_type": "code",
      "source": [
        "from tensorflow.keras.models import Sequential\n",
        "from tensorflow.keras.layers import Embedding, GRU, Dense, Dropout\n",
        "from tensorflow.keras.optimizers import Adam\n",
        "\n",
        "gru_units = 64\n",
        "\n",
        "gru_model = Sequential()\n",
        "gru_model.add(Embedding(input_dim=5000, output_dim=embedding_dim, input_length=X_bow.shape[1]))\n",
        "gru_model.add(GRU(gru_units))\n",
        "gru_model.add(Dropout(0.5))\n",
        "gru_model.add(Dense(1, activation='sigmoid'))\n",
        "\n",
        "gru_model.compile(optimizer=Adam(), loss='binary_crossentropy', metrics=['accuracy'])\n",
        "gru_model.summary()"
      ],
      "metadata": {
        "colab": {
          "base_uri": "https://localhost:8080/",
          "height": 257
        },
        "id": "lOwT9FiZF-S2",
        "outputId": "9726f0f3-290f-4c51-e940-0211e1436dbb"
      },
      "execution_count": 74,
      "outputs": [
        {
          "output_type": "display_data",
          "data": {
            "text/plain": [
              "\u001b[1mModel: \"sequential_4\"\u001b[0m\n"
            ],
            "text/html": [
              "<pre style=\"white-space:pre;overflow-x:auto;line-height:normal;font-family:Menlo,'DejaVu Sans Mono',consolas,'Courier New',monospace\"><span style=\"font-weight: bold\">Model: \"sequential_4\"</span>\n",
              "</pre>\n"
            ]
          },
          "metadata": {}
        },
        {
          "output_type": "display_data",
          "data": {
            "text/plain": [
              "┏━━━━━━━━━━━━━━━━━━━━━━━━━━━━━━━━━━━━━━┳━━━━━━━━━━━━━━━━━━━━━━━━━━━━━┳━━━━━━━━━━━━━━━━━┓\n",
              "┃\u001b[1m \u001b[0m\u001b[1mLayer (type)                        \u001b[0m\u001b[1m \u001b[0m┃\u001b[1m \u001b[0m\u001b[1mOutput Shape               \u001b[0m\u001b[1m \u001b[0m┃\u001b[1m \u001b[0m\u001b[1m        Param #\u001b[0m\u001b[1m \u001b[0m┃\n",
              "┡━━━━━━━━━━━━━━━━━━━━━━━━━━━━━━━━━━━━━━╇━━━━━━━━━━━━━━━━━━━━━━━━━━━━━╇━━━━━━━━━━━━━━━━━┩\n",
              "│ embedding_3 (\u001b[38;5;33mEmbedding\u001b[0m)              │ ?                           │     \u001b[38;5;34m0\u001b[0m (unbuilt) │\n",
              "├──────────────────────────────────────┼─────────────────────────────┼─────────────────┤\n",
              "│ gru (\u001b[38;5;33mGRU\u001b[0m)                            │ ?                           │     \u001b[38;5;34m0\u001b[0m (unbuilt) │\n",
              "├──────────────────────────────────────┼─────────────────────────────┼─────────────────┤\n",
              "│ dropout_4 (\u001b[38;5;33mDropout\u001b[0m)                  │ ?                           │               \u001b[38;5;34m0\u001b[0m │\n",
              "├──────────────────────────────────────┼─────────────────────────────┼─────────────────┤\n",
              "│ dense_4 (\u001b[38;5;33mDense\u001b[0m)                      │ ?                           │     \u001b[38;5;34m0\u001b[0m (unbuilt) │\n",
              "└──────────────────────────────────────┴─────────────────────────────┴─────────────────┘\n"
            ],
            "text/html": [
              "<pre style=\"white-space:pre;overflow-x:auto;line-height:normal;font-family:Menlo,'DejaVu Sans Mono',consolas,'Courier New',monospace\">┏━━━━━━━━━━━━━━━━━━━━━━━━━━━━━━━━━━━━━━┳━━━━━━━━━━━━━━━━━━━━━━━━━━━━━┳━━━━━━━━━━━━━━━━━┓\n",
              "┃<span style=\"font-weight: bold\"> Layer (type)                         </span>┃<span style=\"font-weight: bold\"> Output Shape                </span>┃<span style=\"font-weight: bold\">         Param # </span>┃\n",
              "┡━━━━━━━━━━━━━━━━━━━━━━━━━━━━━━━━━━━━━━╇━━━━━━━━━━━━━━━━━━━━━━━━━━━━━╇━━━━━━━━━━━━━━━━━┩\n",
              "│ embedding_3 (<span style=\"color: #0087ff; text-decoration-color: #0087ff\">Embedding</span>)              │ ?                           │     <span style=\"color: #00af00; text-decoration-color: #00af00\">0</span> (unbuilt) │\n",
              "├──────────────────────────────────────┼─────────────────────────────┼─────────────────┤\n",
              "│ gru (<span style=\"color: #0087ff; text-decoration-color: #0087ff\">GRU</span>)                            │ ?                           │     <span style=\"color: #00af00; text-decoration-color: #00af00\">0</span> (unbuilt) │\n",
              "├──────────────────────────────────────┼─────────────────────────────┼─────────────────┤\n",
              "│ dropout_4 (<span style=\"color: #0087ff; text-decoration-color: #0087ff\">Dropout</span>)                  │ ?                           │               <span style=\"color: #00af00; text-decoration-color: #00af00\">0</span> │\n",
              "├──────────────────────────────────────┼─────────────────────────────┼─────────────────┤\n",
              "│ dense_4 (<span style=\"color: #0087ff; text-decoration-color: #0087ff\">Dense</span>)                      │ ?                           │     <span style=\"color: #00af00; text-decoration-color: #00af00\">0</span> (unbuilt) │\n",
              "└──────────────────────────────────────┴─────────────────────────────┴─────────────────┘\n",
              "</pre>\n"
            ]
          },
          "metadata": {}
        },
        {
          "output_type": "display_data",
          "data": {
            "text/plain": [
              "\u001b[1m Total params: \u001b[0m\u001b[38;5;34m0\u001b[0m (0.00 B)\n"
            ],
            "text/html": [
              "<pre style=\"white-space:pre;overflow-x:auto;line-height:normal;font-family:Menlo,'DejaVu Sans Mono',consolas,'Courier New',monospace\"><span style=\"font-weight: bold\"> Total params: </span><span style=\"color: #00af00; text-decoration-color: #00af00\">0</span> (0.00 B)\n",
              "</pre>\n"
            ]
          },
          "metadata": {}
        },
        {
          "output_type": "display_data",
          "data": {
            "text/plain": [
              "\u001b[1m Trainable params: \u001b[0m\u001b[38;5;34m0\u001b[0m (0.00 B)\n"
            ],
            "text/html": [
              "<pre style=\"white-space:pre;overflow-x:auto;line-height:normal;font-family:Menlo,'DejaVu Sans Mono',consolas,'Courier New',monospace\"><span style=\"font-weight: bold\"> Trainable params: </span><span style=\"color: #00af00; text-decoration-color: #00af00\">0</span> (0.00 B)\n",
              "</pre>\n"
            ]
          },
          "metadata": {}
        },
        {
          "output_type": "display_data",
          "data": {
            "text/plain": [
              "\u001b[1m Non-trainable params: \u001b[0m\u001b[38;5;34m0\u001b[0m (0.00 B)\n"
            ],
            "text/html": [
              "<pre style=\"white-space:pre;overflow-x:auto;line-height:normal;font-family:Menlo,'DejaVu Sans Mono',consolas,'Courier New',monospace\"><span style=\"font-weight: bold\"> Non-trainable params: </span><span style=\"color: #00af00; text-decoration-color: #00af00\">0</span> (0.00 B)\n",
              "</pre>\n"
            ]
          },
          "metadata": {}
        }
      ]
    },
    {
      "cell_type": "code",
      "source": [
        "gru_model.fit(X_bow_train, y_bow_train, epochs=5, batch_size=32, validation_data=(X_bow_test, y_bow_test))\n",
        "gru_y_bow_pred = (gru_model.predict(X_bow_test) > 0.5).astype(int)\n",
        "print(\"BoW GRU Accuracy:\", accuracy_score(y_bow_test, gru_y_bow_pred))\n",
        "print(\"BoW GRU Classification Report:\")\n",
        "print(classification_report(y_bow_test, gru_y_bow_pred))"
      ],
      "metadata": {
        "colab": {
          "base_uri": "https://localhost:8080/"
        },
        "id": "gf891qTlGB1D",
        "outputId": "dfa625f4-49f4-4526-9118-5ce190a74705"
      },
      "execution_count": 75,
      "outputs": [
        {
          "output_type": "stream",
          "name": "stdout",
          "text": [
            "Epoch 1/5\n",
            "\u001b[1m123/123\u001b[0m \u001b[32m━━━━━━━━━━━━━━━━━━━━\u001b[0m\u001b[37m\u001b[0m \u001b[1m21s\u001b[0m 155ms/step - accuracy: 0.8975 - loss: 0.3292 - val_accuracy: 0.9288 - val_loss: 0.2573\n",
            "Epoch 2/5\n",
            "\u001b[1m123/123\u001b[0m \u001b[32m━━━━━━━━━━━━━━━━━━━━\u001b[0m\u001b[37m\u001b[0m \u001b[1m18s\u001b[0m 145ms/step - accuracy: 0.9415 - loss: 0.2284 - val_accuracy: 0.9288 - val_loss: 0.2571\n",
            "Epoch 3/5\n",
            "\u001b[1m123/123\u001b[0m \u001b[32m━━━━━━━━━━━━━━━━━━━━\u001b[0m\u001b[37m\u001b[0m \u001b[1m21s\u001b[0m 145ms/step - accuracy: 0.9386 - loss: 0.2394 - val_accuracy: 0.9288 - val_loss: 0.2575\n",
            "Epoch 4/5\n",
            "\u001b[1m123/123\u001b[0m \u001b[32m━━━━━━━━━━━━━━━━━━━━\u001b[0m\u001b[37m\u001b[0m \u001b[1m20s\u001b[0m 144ms/step - accuracy: 0.9299 - loss: 0.2622 - val_accuracy: 0.9288 - val_loss: 0.2627\n",
            "Epoch 5/5\n",
            "\u001b[1m123/123\u001b[0m \u001b[32m━━━━━━━━━━━━━━━━━━━━\u001b[0m\u001b[37m\u001b[0m \u001b[1m21s\u001b[0m 152ms/step - accuracy: 0.9323 - loss: 0.2541 - val_accuracy: 0.9288 - val_loss: 0.2568\n",
            "\u001b[1m31/31\u001b[0m \u001b[32m━━━━━━━━━━━━━━━━━━━━\u001b[0m\u001b[37m\u001b[0m \u001b[1m3s\u001b[0m 78ms/step\n",
            "BoW GRU Accuracy: 0.9287894201424212\n",
            "BoW GRU Classification Report:\n",
            "              precision    recall  f1-score   support\n",
            "\n",
            "           0       0.93      1.00      0.96       913\n",
            "           1       0.00      0.00      0.00        70\n",
            "\n",
            "    accuracy                           0.93       983\n",
            "   macro avg       0.46      0.50      0.48       983\n",
            "weighted avg       0.86      0.93      0.89       983\n",
            "\n"
          ]
        }
      ]
    },
    {
      "cell_type": "code",
      "source": [
        "gru_model.fit(X_tfidf_train, y_tfidf_train, epochs=5, batch_size=32, validation_data=(X_tfidf_test, y_tfidf_test))\n",
        "gru_y_tfidf_pred = (gru_model.predict(X_tfidf_test) > 0.5).astype(int)\n",
        "print(\"TF-IDF GRU Accuracy:\", accuracy_score(y_tfidf_test, gru_y_tfidf_pred))\n",
        "print(\"TF-IDF GRU Classification Report:\")\n",
        "print(classification_report(y_tfidf_test, gru_y_tfidf_pred))"
      ],
      "metadata": {
        "colab": {
          "base_uri": "https://localhost:8080/"
        },
        "id": "2OZjAUsaM3xA",
        "outputId": "dbcfe633-9c7d-4aeb-9c3d-1f04a8ca196d"
      },
      "execution_count": 76,
      "outputs": [
        {
          "output_type": "stream",
          "name": "stdout",
          "text": [
            "Epoch 1/5\n",
            "\u001b[1m123/123\u001b[0m \u001b[32m━━━━━━━━━━━━━━━━━━━━\u001b[0m\u001b[37m\u001b[0m \u001b[1m20s\u001b[0m 153ms/step - accuracy: 0.9358 - loss: 0.2421 - val_accuracy: 0.9288 - val_loss: 0.2595\n",
            "Epoch 2/5\n",
            "\u001b[1m123/123\u001b[0m \u001b[32m━━━━━━━━━━━━━━━━━━━━\u001b[0m\u001b[37m\u001b[0m \u001b[1m18s\u001b[0m 145ms/step - accuracy: 0.9390 - loss: 0.2358 - val_accuracy: 0.9288 - val_loss: 0.2569\n",
            "Epoch 3/5\n",
            "\u001b[1m123/123\u001b[0m \u001b[32m━━━━━━━━━━━━━━━━━━━━\u001b[0m\u001b[37m\u001b[0m \u001b[1m20s\u001b[0m 144ms/step - accuracy: 0.9363 - loss: 0.2417 - val_accuracy: 0.9288 - val_loss: 0.2581\n",
            "Epoch 4/5\n",
            "\u001b[1m123/123\u001b[0m \u001b[32m━━━━━━━━━━━━━━━━━━━━\u001b[0m\u001b[37m\u001b[0m \u001b[1m21s\u001b[0m 151ms/step - accuracy: 0.9360 - loss: 0.2446 - val_accuracy: 0.9288 - val_loss: 0.2568\n",
            "Epoch 5/5\n",
            "\u001b[1m123/123\u001b[0m \u001b[32m━━━━━━━━━━━━━━━━━━━━\u001b[0m\u001b[37m\u001b[0m \u001b[1m20s\u001b[0m 147ms/step - accuracy: 0.9359 - loss: 0.2432 - val_accuracy: 0.9288 - val_loss: 0.2568\n",
            "\u001b[1m31/31\u001b[0m \u001b[32m━━━━━━━━━━━━━━━━━━━━\u001b[0m\u001b[37m\u001b[0m \u001b[1m2s\u001b[0m 57ms/step\n",
            "TF-IDF GRU Accuracy: 0.9287894201424212\n",
            "TF-IDF GRU Classification Report:\n",
            "              precision    recall  f1-score   support\n",
            "\n",
            "           0       0.93      1.00      0.96       913\n",
            "           1       0.00      0.00      0.00        70\n",
            "\n",
            "    accuracy                           0.93       983\n",
            "   macro avg       0.46      0.50      0.48       983\n",
            "weighted avg       0.86      0.93      0.89       983\n",
            "\n"
          ]
        }
      ]
    },
    {
      "cell_type": "code",
      "source": [
        "X_w2v_train_padded = pad_sequences(X_w2v_train, padding='post', maxlen=100)  # Adjust maxlen if necessary\n",
        "X_w2v_test_padded = pad_sequences(X_w2v_test, padding='post', maxlen=100)\n",
        "\n",
        "gru_model.fit(X_w2v_train_padded, y_w2v_train, epochs=5, batch_size=32, validation_data=(X_w2v_test_padded, y_w2v_test))\n",
        "\n",
        "gru_y_w2v_pred = (gru_model.predict(X_w2v_test_padded) > 0.5).astype(int)\n",
        "\n",
        "print(\"Word2Vec GRU Accuracy:\", accuracy_score(y_w2v_test, gru_y_w2v_pred))\n",
        "print(\"Word2Vec GRU Classification Report:\")\n",
        "print(classification_report(y_w2v_test, gru_y_w2v_pred))"
      ],
      "metadata": {
        "colab": {
          "base_uri": "https://localhost:8080/"
        },
        "id": "CcIYS-CaM6ho",
        "outputId": "6aa12032-8c93-4d37-a35e-55c6f9409e31"
      },
      "execution_count": 77,
      "outputs": [
        {
          "output_type": "stream",
          "name": "stdout",
          "text": [
            "Epoch 1/5\n",
            "\u001b[1m123/123\u001b[0m \u001b[32m━━━━━━━━━━━━━━━━━━━━\u001b[0m\u001b[37m\u001b[0m \u001b[1m2s\u001b[0m 10ms/step - accuracy: 0.9327 - loss: 0.2523 - val_accuracy: 0.9288 - val_loss: 0.2520\n",
            "Epoch 2/5\n",
            "\u001b[1m123/123\u001b[0m \u001b[32m━━━━━━━━━━━━━━━━━━━━\u001b[0m\u001b[37m\u001b[0m \u001b[1m2s\u001b[0m 9ms/step - accuracy: 0.9349 - loss: 0.2375 - val_accuracy: 0.9288 - val_loss: 0.2458\n",
            "Epoch 3/5\n",
            "\u001b[1m123/123\u001b[0m \u001b[32m━━━━━━━━━━━━━━━━━━━━\u001b[0m\u001b[37m\u001b[0m \u001b[1m1s\u001b[0m 8ms/step - accuracy: 0.9325 - loss: 0.2412 - val_accuracy: 0.9288 - val_loss: 0.2439\n",
            "Epoch 4/5\n",
            "\u001b[1m123/123\u001b[0m \u001b[32m━━━━━━━━━━━━━━━━━━━━\u001b[0m\u001b[37m\u001b[0m \u001b[1m1s\u001b[0m 8ms/step - accuracy: 0.9385 - loss: 0.2277 - val_accuracy: 0.9288 - val_loss: 0.2451\n",
            "Epoch 5/5\n",
            "\u001b[1m123/123\u001b[0m \u001b[32m━━━━━━━━━━━━━━━━━━━━\u001b[0m\u001b[37m\u001b[0m \u001b[1m2s\u001b[0m 12ms/step - accuracy: 0.9327 - loss: 0.2357 - val_accuracy: 0.9288 - val_loss: 0.2445\n",
            "\u001b[1m31/31\u001b[0m \u001b[32m━━━━━━━━━━━━━━━━━━━━\u001b[0m\u001b[37m\u001b[0m \u001b[1m0s\u001b[0m 9ms/step\n",
            "Word2Vec GRU Accuracy: 0.9287894201424212\n",
            "Word2Vec GRU Classification Report:\n",
            "              precision    recall  f1-score   support\n",
            "\n",
            "           0       0.93      1.00      0.96       913\n",
            "           1       0.00      0.00      0.00        70\n",
            "\n",
            "    accuracy                           0.93       983\n",
            "   macro avg       0.46      0.50      0.48       983\n",
            "weighted avg       0.86      0.93      0.89       983\n",
            "\n"
          ]
        }
      ]
    },
    {
      "cell_type": "markdown",
      "source": [
        "Visualization"
      ],
      "metadata": {
        "id": "8v1HnMQhG7Gy"
      }
    },
    {
      "cell_type": "code",
      "source": [
        "import matplotlib.pyplot as plt\n",
        "import numpy as np\n",
        "from sklearn.metrics import accuracy_score, classification_report\n",
        "\n",
        "# Define the function to extract metrics\n",
        "def extract_metrics(y_true, y_pred):\n",
        "    report = classification_report(y_true, y_pred, output_dict=True, zero_division=1)\n",
        "    accuracy = accuracy_score(y_true, y_pred)\n",
        "    precision = report['macro avg']['precision']\n",
        "    recall = report['macro avg']['recall']\n",
        "    f1_score = report['macro avg']['f1-score']\n",
        "    return [accuracy, precision, recall, f1_score]\n",
        "\n",
        "# Ensure proper padding of sequences for all datasets (BoW, TF-IDF, Word2Vec)\n",
        "X_bow_train_padded = pad_sequences(X_bow_train, padding='post', maxlen=100)\n",
        "X_bow_test_padded = pad_sequences(X_bow_test, padding='post', maxlen=100)\n",
        "\n",
        "X_tfidf_train_padded = pad_sequences(X_tfidf_train, padding='post', maxlen=100)\n",
        "X_tfidf_test_padded = pad_sequences(X_tfidf_test, padding='post', maxlen=100)\n",
        "\n",
        "X_w2v_train_padded = pad_sequences(X_w2v_train, padding='post', maxlen=100)\n",
        "X_w2v_test_padded = pad_sequences(X_w2v_test, padding='post', maxlen=100)\n",
        "\n",
        "# BoW\n",
        "lstm_bow_pred = (lstm_model.predict(X_bow_test_padded) > 0.5).astype(int)\n",
        "gru_bow_pred = (gru_model.predict(X_bow_test_padded) > 0.5).astype(int)\n",
        "rnn_bow_pred = (rnn_model.predict(X_bow_test_padded) > 0.5).astype(int)\n",
        "\n",
        "metrics_bow = {\n",
        "    'LSTM': extract_metrics(y_bow_test, lstm_bow_pred),\n",
        "    'GRU': extract_metrics(y_bow_test, gru_bow_pred),\n",
        "    'RNN': extract_metrics(y_bow_test, rnn_bow_pred),\n",
        "}\n",
        "\n",
        "# TF-IDF\n",
        "lstm_tfidf_pred = (lstm_model.predict(X_tfidf_test_padded) > 0.5).astype(int)\n",
        "gru_tfidf_pred = (gru_model.predict(X_tfidf_test_padded) > 0.5).astype(int)\n",
        "rnn_tfidf_pred = (rnn_model.predict(X_tfidf_test_padded) > 0.5).astype(int)\n",
        "\n",
        "metrics_tfidf = {\n",
        "    'LSTM': extract_metrics(y_tfidf_test, lstm_tfidf_pred),\n",
        "    'GRU': extract_metrics(y_tfidf_test, gru_tfidf_pred),\n",
        "    'RNN': extract_metrics(y_tfidf_test, rnn_tfidf_pred),\n",
        "}\n",
        "\n",
        "# Word2Vec\n",
        "lstm_w2v_pred = (lstm_model.predict(X_w2v_test_padded) > 0.5).astype(int)\n",
        "gru_w2v_pred = (gru_model.predict(X_w2v_test_padded) > 0.5).astype(int)\n",
        "rnn_w2v_pred = (rnn_model.predict(X_w2v_test_padded) > 0.5).astype(int)\n",
        "\n",
        "metrics_w2v = {\n",
        "    'LSTM': extract_metrics(y_w2v_test, lstm_w2v_pred),\n",
        "    'GRU': extract_metrics(y_w2v_test, gru_w2v_pred),\n",
        "    'RNN': extract_metrics(y_w2v_test, rnn_w2v_pred),\n",
        "}\n",
        "\n",
        "# Function to plot metrics\n",
        "def plot_metrics(results, title):\n",
        "    models = ['LSTM', 'GRU', 'RNN']\n",
        "    metrics = ['Accuracy', 'Precision', 'Recall', 'F1-Score']\n",
        "    ind = np.arange(len(models))  # the x locations for the groups\n",
        "    width = 0.2  # the width of the bars\n",
        "\n",
        "    fig, ax = plt.subplots(figsize=(10, 6))\n",
        "    for i, metric in enumerate(metrics):\n",
        "        values = [results[model][i] for model in models]\n",
        "        ax.bar(ind + i * width, values, width, label=metric)\n",
        "\n",
        "    ax.set_ylabel('Scores')\n",
        "    ax.set_title(f'{title} Model Performance Comparison')\n",
        "    ax.set_xticks(ind + width)\n",
        "    ax.set_xticklabels(models)\n",
        "    ax.legend()\n",
        "\n",
        "# Plot performance comparison for BoW, TF-IDF, and Word2Vec\n",
        "plot_metrics(metrics_bow, 'BoW')\n",
        "plt.show()\n",
        "\n",
        "plot_metrics(metrics_tfidf, 'TF-IDF')\n",
        "plt.show()\n",
        "\n",
        "plot_metrics(metrics_w2v, 'Word2Vec')\n",
        "plt.show()\n"
      ],
      "metadata": {
        "colab": {
          "base_uri": "https://localhost:8080/",
          "height": 1000
        },
        "id": "0jGlQwQwGDsC",
        "outputId": "ebfeba82-3caf-4449-bbee-9ab8062d9258"
      },
      "execution_count": 78,
      "outputs": [
        {
          "output_type": "stream",
          "name": "stdout",
          "text": [
            "\u001b[1m31/31\u001b[0m \u001b[32m━━━━━━━━━━━━━━━━━━━━\u001b[0m\u001b[37m\u001b[0m \u001b[1m0s\u001b[0m 11ms/step\n",
            "\u001b[1m31/31\u001b[0m \u001b[32m━━━━━━━━━━━━━━━━━━━━\u001b[0m\u001b[37m\u001b[0m \u001b[1m0s\u001b[0m 5ms/step\n",
            "\u001b[1m31/31\u001b[0m \u001b[32m━━━━━━━━━━━━━━━━━━━━\u001b[0m\u001b[37m\u001b[0m \u001b[1m0s\u001b[0m 6ms/step\n",
            "\u001b[1m31/31\u001b[0m \u001b[32m━━━━━━━━━━━━━━━━━━━━\u001b[0m\u001b[37m\u001b[0m \u001b[1m0s\u001b[0m 4ms/step\n",
            "\u001b[1m31/31\u001b[0m \u001b[32m━━━━━━━━━━━━━━━━━━━━\u001b[0m\u001b[37m\u001b[0m \u001b[1m0s\u001b[0m 4ms/step\n",
            "\u001b[1m31/31\u001b[0m \u001b[32m━━━━━━━━━━━━━━━━━━━━\u001b[0m\u001b[37m\u001b[0m \u001b[1m0s\u001b[0m 5ms/step\n",
            "\u001b[1m31/31\u001b[0m \u001b[32m━━━━━━━━━━━━━━━━━━━━\u001b[0m\u001b[37m\u001b[0m \u001b[1m0s\u001b[0m 4ms/step\n",
            "\u001b[1m31/31\u001b[0m \u001b[32m━━━━━━━━━━━━━━━━━━━━\u001b[0m\u001b[37m\u001b[0m \u001b[1m0s\u001b[0m 4ms/step\n",
            "\u001b[1m31/31\u001b[0m \u001b[32m━━━━━━━━━━━━━━━━━━━━\u001b[0m\u001b[37m\u001b[0m \u001b[1m0s\u001b[0m 5ms/step\n"
          ]
        },
        {
          "output_type": "display_data",
          "data": {
            "text/plain": [
              "<Figure size 1000x600 with 1 Axes>"
            ],
            "image/png": "[encoded data removed]"
          },
          "metadata": {}
        },
        {
          "output_type": "display_data",
          "data": {
            "text/plain": [
              "<Figure size 1000x600 with 1 Axes>"
            ],
            "image/png": "[encoded data removed]"
          },
          "metadata": {}
        },
        {
          "output_type": "display_data",
          "data": {
            "text/plain": [
              "<Figure size 1000x600 with 1 Axes>"
            ],
            "image/png": "[encoded data removed]"
          },
          "metadata": {}
        }
      ]
    },
    {
      "cell_type": "markdown",
      "source": [
        "Enhancments"
      ],
      "metadata": {
        "id": "klJIAR06OeAw"
      }
    },
    {
      "cell_type": "markdown",
      "source": [
        "Using Pre-trained Word Embeddings (GloVe or FastText)\n"
      ],
      "metadata": {
        "id": "u6hr9hRkRbMz"
      }
    },
    {
      "cell_type": "code",
      "source": [
        "!#wget http://nlp.stanford.edu/data/glove.6B.zip\n",
        "#!unzip glove.6B.zip"
      ],
      "metadata": {
        "id": "2by1tjvARuM3"
      },
      "execution_count": 79,
      "outputs": []
    },
    {
      "cell_type": "code",
      "source": [
        "from transformers import BertTokenizer\n",
        "import numpy as np\n",
        "\n",
        "# Initialize BERT tokenizer\n",
        "tokenizer = BertTokenizer.from_pretrained('bert-base-uncased')\n",
        "\n",
        "# Load GloVe embeddings\n",
        "embedding_dim = 100\n",
        "embeddings_index = {}\n",
        "with open('glove.6B.100d.txt', 'r', encoding='utf-8') as f:\n",
        "    for line in f:\n",
        "        values = line.split()\n",
        "        word = values[0]\n",
        "        coefs = np.asarray(values[1:], dtype='float32')\n",
        "        embeddings_index[word] = coefs\n",
        "\n",
        "# Tokenize your sentences using BERT tokenizer\n",
        "sample_text = \"This is an example sentence.\"\n",
        "tokens = tokenizer.tokenize(sample_text)\n",
        "\n",
        "# Prepare embedding matrix for the tokens\n",
        "embedding_matrix = np.zeros((len(tokens), embedding_dim))\n",
        "\n",
        "for i, word in enumerate(tokens):\n",
        "    embedding_vector = embeddings_index.get(word)\n",
        "    if embedding_vector is not None:\n",
        "        embedding_matrix[i] = embedding_vector\n",
        "\n",
        "# Example: BERT token IDs\n",
        "token_ids = tokenizer.convert_tokens_to_ids(tokens)\n",
        "\n",
        "# Now you can use token_ids for further processing in your model\n",
        "print(\"Token IDs:\", token_ids)\n",
        "print(\"Embedding Matrix:\", embedding_matrix)"
      ],
      "metadata": {
        "colab": {
          "base_uri": "https://localhost:8080/"
        },
        "id": "aQZUOgEuOluJ",
        "outputId": "220b09a1-5c6c-4c26-9ed3-34208b124606"
      },
      "execution_count": 80,
      "outputs": [
        {
          "output_type": "stream",
          "name": "stdout",
          "text": [
            "Token IDs: [2023, 2003, 2019, 2742, 6251, 1012]\n",
            "Embedding Matrix: [[-0.57058001  0.44183001  0.70102    -0.41712999 -0.34057999  0.02339\n",
            "  -0.071537    0.48177001 -0.013121    0.16834    -0.13389     0.040626\n",
            "   0.15827    -0.44341999 -0.019403   -0.009661   -0.046284    0.093228\n",
            "  -0.27331001  0.22849999  0.33089    -0.36474001  0.078741    0.3585\n",
            "   0.44757    -0.2299      0.18076999 -0.62650001  0.053852   -0.29154\n",
            "  -0.42559999  0.62902999  0.14393    -0.046004   -0.21007     0.48879001\n",
            "  -0.057698    0.37430999 -0.030075   -0.34494001 -0.29701999  0.15095\n",
            "   0.28248    -0.16577999  0.076131   -0.093016    0.79364997 -0.60488999\n",
            "  -0.18874    -1.01730001  0.31962001 -0.16344     0.54176998  1.17250001\n",
            "  -0.47874999 -3.3842001  -0.081301   -0.35280001  1.83720005  0.44516\n",
            "  -0.52666003  0.99786001 -0.32178     0.033462    1.17830002 -0.072905\n",
            "   0.39737001  0.26166001  0.33111    -0.35629001 -0.16558    -0.44382\n",
            "  -0.14183    -0.37976     0.28994    -0.029114   -0.35168999 -0.27693999\n",
            "  -1.34399998  0.19554999  0.16887     0.040237   -0.80211997  0.23366\n",
            "  -1.38370001 -0.023132    0.085395   -0.74050999 -0.073934   -0.58837998\n",
            "  -0.085735   -0.10525    -0.51571     0.15038    -0.16694    -0.16372\n",
            "  -0.22702    -0.66101998  0.47196999  0.37253001]\n",
            " [-0.54263997  0.41475999  1.03219998 -0.40244001  0.46691     0.21816\n",
            "  -0.074864    0.47332001  0.080996   -0.22079    -0.12808    -0.1144\n",
            "   0.50891     0.11568     0.028211   -0.3628      0.43823001  0.047511\n",
            "   0.20282     0.49857    -0.10068     0.13269     0.16971999  0.11653\n",
            "   0.31355     0.25713     0.092783   -0.56826001 -0.52974999 -0.051456\n",
            "  -0.67325997  0.92532998  0.26930001  0.22734     0.66364998  0.26221001\n",
            "   0.19719     0.26089999  0.18774    -0.34540001 -0.42635     0.13975\n",
            "   0.56338    -0.56906998  0.12398    -0.12894     0.72483999 -0.26104999\n",
            "  -0.26313999 -0.43605     0.078908   -0.84145999  0.51595002  1.39970005\n",
            "  -0.76459998 -3.14529991 -0.29201999 -0.31246999  1.51289999  0.52434999\n",
            "   0.21456     0.42451999 -0.088411   -0.17805     1.18760002  0.10579\n",
            "   0.76571     0.21913999  0.35824001 -0.11636     0.093261   -0.62483001\n",
            "  -0.21898     0.21796     0.74056    -0.43735     0.14342999  0.14719\n",
            "  -1.16050005 -0.050508    0.12677    -0.014395   -0.98676002 -0.091297\n",
            "  -1.20539999 -0.11974     0.047847   -0.54000998  0.52456999 -0.70963001\n",
            "  -0.32528001 -0.1346     -0.41314     0.33434999 -0.0072412   0.32253\n",
            "  -0.044219   -1.29690003  0.76217002  0.46349001]\n",
            " [-0.42140001 -0.18797     0.46241    -0.17605001  0.36212     0.36701\n",
            "   0.27924001  0.14634    -0.054227    0.45833999  0.065416   -0.33724999\n",
            "   0.067505   -0.36316001  0.50301999 -0.010361    0.72825998 -0.17564\n",
            "  -0.33996001  0.072864    0.64481002 -0.23908     0.38383001  0.13857999\n",
            "   1.09940004 -0.24883001 -0.15078001 -0.48738    -0.23041999  0.064788\n",
            "  -0.70183003  0.82653999  0.06128     0.18531001 -0.30162001 -0.022151\n",
            "   0.34301999  0.80330998  0.17135     0.15462001 -0.50759     0.39572001\n",
            "   0.054291   -0.53081     0.48252001  0.086205    0.59584999 -0.22376999\n",
            "  -0.3955     -0.73035997 -0.10279    -0.39166     1.22899997  1.21290004\n",
            "  -1.03649998 -3.49710011  0.10923    -1.00839996  1.99979997  0.79640001\n",
            "   0.3881      0.43746001  0.085194    0.38549     0.61993003 -1.03199995\n",
            "   0.70118999 -0.2246      0.079435    0.09126    -0.21196    -0.55429\n",
            "  -0.053352   -0.80201     0.46798    -0.05005    -0.57422    -0.084822\n",
            "  -1.7227     -0.94286001  0.98667002  0.31211001 -0.37735     0.068674\n",
            "  -0.77837998 -0.28485999  0.81046999  0.46596    -0.11865    -0.93410999\n",
            "   0.33722001  0.037906   -0.18273    -0.019941    0.20494001 -0.47718\n",
            "  -0.49252999 -0.56518     0.72557998 -0.15913001]\n",
            " [-0.12616999  0.61724001  0.22581001  0.39868     0.16111     0.1523\n",
            "  -0.14714999 -0.29447001 -0.27348    -0.13753    -0.20897999 -0.73435998\n",
            "   0.14144     0.15048     0.09179     0.018613    0.22539     0.15978999\n",
            "  -0.16935     0.42715999  0.042284   -0.3477     -0.11413     0.12222\n",
            "  -0.025027   -0.20805    -0.067264   -0.2956     -0.30807    -0.32903001\n",
            "   0.19058999  0.77140999 -0.19332001 -0.31068999  0.26745     0.32231\n",
            "   0.20649999  0.10497     0.49425    -0.38321999 -0.12802    -0.069906\n",
            "  -0.14827999  0.085369   -0.18141     0.14688     0.60968    -0.21131\n",
            "  -0.29148    -0.52772999  0.59508002  0.017369    0.15342     0.81924999\n",
            "  -0.20643    -2.03780007 -0.11884    -0.16825999  1.52880001  0.15756001\n",
            "  -0.49939999  0.39304999  0.12672    -0.10968     1.3671     -0.21006\n",
            "   0.15684     0.0063801   0.43836001 -0.18765    -0.29087999  0.18618999\n",
            "   0.085402    0.13985001  0.40794    -0.14811     0.26701999 -0.19142\n",
            "  -0.6189      0.0091217   0.34970999 -0.24078999 -0.52476001 -0.25071001\n",
            "  -1.56809998  0.22101     0.046796   -0.62616003 -0.043358   -0.42864999\n",
            "  -0.0057843  -0.22611     0.074171    0.091597   -0.40751001 -0.08359\n",
            "  -0.48413    -1.07179999  0.52827001  0.058813  ]\n",
            " [ 0.61919999  0.14650001 -0.085925   -0.26298001  0.78438997  0.88507998\n",
            "  -0.32910001  0.49895999 -0.79062003  1.01310003 -0.88145     1.35839999\n",
            "  -0.66750997  0.42515001  0.50281    -0.089359   -0.49862999 -0.83455002\n",
            "  -0.74469     0.34275001  0.29674    -0.71928    -0.16707     0.40454\n",
            "   0.38765001  0.62356001 -0.079742   -0.84977001 -0.041216    0.73005003\n",
            "   0.60822999 -0.016954   -0.35062    -0.76393002 -0.27945     0.35848999\n",
            "   0.12919    -0.63485998  0.010818   -0.25926    -0.35931    -0.32014999\n",
            "   1.2141     -0.25545001  0.35797     0.16637     1.0474     -1.36679995\n",
            "  -0.11174    -0.13239001  0.98992997 -1.16059995  0.56177998  1.42420006\n",
            "  -0.70643997 -0.51683003 -0.087395   -0.62826002  1.77400005  0.58555001\n",
            "  -0.13338999 -0.1593     -0.74274999 -1.05850005  0.91011    -0.49965999\n",
            "   0.39680001  0.62120003 -1.43120003  0.33651999  0.22723     0.13312\n",
            "   0.49876001  0.34990999  0.32350001  0.73083001 -0.094294   -0.87917\n",
            "  -0.40375999 -0.40542999  0.51081002 -0.51537001 -0.57041001 -0.81079\n",
            "  -1.53310001  0.12919     0.088052   -0.73563999  0.09653    -0.35565999\n",
            "  -0.25716999 -0.33758    -0.24789    -0.24339999  0.88116002  0.11735\n",
            "   0.56470001 -0.25014001 -0.14849    -0.30726999]\n",
            " [-0.33978999  0.20941     0.46348    -0.64792001 -0.38376999  0.038034\n",
            "   0.17127     0.15978     0.46619001 -0.019169    0.41479    -0.34349\n",
            "   0.26872     0.04464     0.42131001 -0.41032001  0.15459     0.022239\n",
            "  -0.64652997  0.25255999  0.043136   -0.19445001  0.46516001  0.45651001\n",
            "   0.68588001  0.091295    0.21875    -0.70350999  0.16785    -0.35078999\n",
            "  -0.12634     0.66384    -0.25819999  0.036542   -0.13605     0.40253001\n",
            "   0.14289001  0.38132    -0.12283    -0.45886001 -0.25281999 -0.30432001\n",
            "  -0.11215    -0.26181999 -0.22482    -0.44554001  0.29910001 -0.85611999\n",
            "  -0.14503001 -0.49085999  0.0082973  -0.17490999  0.27524     1.44009995\n",
            "  -0.21239001 -2.8434999  -0.27958    -0.45721999  1.63859999  0.78807998\n",
            "  -0.55261999  0.64999998  0.086426    0.39012     1.0632     -0.35378999\n",
            "   0.48328     0.34599999  0.84174001  0.098707   -0.24213    -0.27052999\n",
            "   0.045287   -0.40147001  0.11395     0.0062226   0.036673    0.018518\n",
            "  -1.02129996 -0.20806     0.64072001 -0.068763   -0.58635002  0.33476001\n",
            "  -1.14320004 -0.1148     -0.25091001 -0.45907    -0.096819   -0.17946\n",
            "  -0.063351   -0.67412001 -0.068895    0.53604001 -0.87773001  0.31801999\n",
            "  -0.39241999 -0.23394001  0.47297999 -0.028803  ]]\n"
          ]
        }
      ]
    },
    {
      "cell_type": "markdown",
      "source": [
        "Adding an Attention Mechanism"
      ],
      "metadata": {
        "id": "nyhE7KkaS-OI"
      }
    },
    {
      "cell_type": "code",
      "source": [
        "from tensorflow.keras.layers import Layer\n",
        "import tensorflow as tf\n",
        "\n",
        "class Attention(Layer):\n",
        "    def __init__(self):\n",
        "        super(Attention, self).__init__()\n",
        "\n",
        "    def build(self, input_shape):\n",
        "        self.W = self.add_weight(shape=(input_shape[2], input_shape[1]),\n",
        "                                 initializer=\"random_normal\", trainable=True)\n",
        "        self.b = self.add_weight(shape=(input_shape[1],), initializer=\"zeros\", trainable=True)\n",
        "\n",
        "    def call(self, inputs):\n",
        "        attention_scores = tf.nn.softmax(tf.matmul(inputs, self.W) + self.b, axis=1)\n",
        "        context_vector = tf.reduce_sum(attention_scores * inputs, axis=1)\n",
        "        return context_vector\n",
        "\n",
        "# Example RNN with Attention\n",
        "rnn_model = Sequential()\n",
        "rnn_model.add(Embedding(input_dim=5000, output_dim=embedding_dim, input_length=X_bow_train.shape[1]))\n",
        "rnn_model.add(SimpleRNN(64, return_sequences=True))\n",
        "rnn_model.add(Attention())  # Apply attention layer\n",
        "rnn_model.add(Dropout(0.5))\n",
        "rnn_model.add(Dense(1, activation='sigmoid'))\n",
        "rnn_model.compile(optimizer='adam', loss='binary_crossentropy', metrics=['accuracy'])\n",
        "rnn_model.summary()\n"
      ],
      "metadata": {
        "colab": {
          "base_uri": "https://localhost:8080/",
          "height": 289
        },
        "id": "zzggyS9WRc37",
        "outputId": "363cf731-9184-4ead-dca9-14d28ff29a2b"
      },
      "execution_count": 81,
      "outputs": [
        {
          "output_type": "display_data",
          "data": {
            "text/plain": [
              "\u001b[1mModel: \"sequential_5\"\u001b[0m\n"
            ],
            "text/html": [
              "<pre style=\"white-space:pre;overflow-x:auto;line-height:normal;font-family:Menlo,'DejaVu Sans Mono',consolas,'Courier New',monospace\"><span style=\"font-weight: bold\">Model: \"sequential_5\"</span>\n",
              "</pre>\n"
            ]
          },
          "metadata": {}
        },
        {
          "output_type": "display_data",
          "data": {
            "text/plain": [
              "┏━━━━━━━━━━━━━━━━━━━━━━━━━━━━━━━━━━━━━━┳━━━━━━━━━━━━━━━━━━━━━━━━━━━━━┳━━━━━━━━━━━━━━━━━┓\n",
              "┃\u001b[1m \u001b[0m\u001b[1mLayer (type)                        \u001b[0m\u001b[1m \u001b[0m┃\u001b[1m \u001b[0m\u001b[1mOutput Shape               \u001b[0m\u001b[1m \u001b[0m┃\u001b[1m \u001b[0m\u001b[1m        Param #\u001b[0m\u001b[1m \u001b[0m┃\n",
              "┡━━━━━━━━━━━━━━━━━━━━━━━━━━━━━━━━━━━━━━╇━━━━━━━━━━━━━━━━━━━━━━━━━━━━━╇━━━━━━━━━━━━━━━━━┩\n",
              "│ embedding_4 (\u001b[38;5;33mEmbedding\u001b[0m)              │ ?                           │     \u001b[38;5;34m0\u001b[0m (unbuilt) │\n",
              "├──────────────────────────────────────┼─────────────────────────────┼─────────────────┤\n",
              "│ simple_rnn_3 (\u001b[38;5;33mSimpleRNN\u001b[0m)             │ ?                           │     \u001b[38;5;34m0\u001b[0m (unbuilt) │\n",
              "├──────────────────────────────────────┼─────────────────────────────┼─────────────────┤\n",
              "│ attention (\u001b[38;5;33mAttention\u001b[0m)                │ ?                           │     \u001b[38;5;34m0\u001b[0m (unbuilt) │\n",
              "├──────────────────────────────────────┼─────────────────────────────┼─────────────────┤\n",
              "│ dropout_5 (\u001b[38;5;33mDropout\u001b[0m)                  │ ?                           │               \u001b[38;5;34m0\u001b[0m │\n",
              "├──────────────────────────────────────┼─────────────────────────────┼─────────────────┤\n",
              "│ dense_5 (\u001b[38;5;33mDense\u001b[0m)                      │ ?                           │     \u001b[38;5;34m0\u001b[0m (unbuilt) │\n",
              "└──────────────────────────────────────┴─────────────────────────────┴─────────────────┘\n"
            ],
            "text/html": [
              "<pre style=\"white-space:pre;overflow-x:auto;line-height:normal;font-family:Menlo,'DejaVu Sans Mono',consolas,'Courier New',monospace\">┏━━━━━━━━━━━━━━━━━━━━━━━━━━━━━━━━━━━━━━┳━━━━━━━━━━━━━━━━━━━━━━━━━━━━━┳━━━━━━━━━━━━━━━━━┓\n",
              "┃<span style=\"font-weight: bold\"> Layer (type)                         </span>┃<span style=\"font-weight: bold\"> Output Shape                </span>┃<span style=\"font-weight: bold\">         Param # </span>┃\n",
              "┡━━━━━━━━━━━━━━━━━━━━━━━━━━━━━━━━━━━━━━╇━━━━━━━━━━━━━━━━━━━━━━━━━━━━━╇━━━━━━━━━━━━━━━━━┩\n",
              "│ embedding_4 (<span style=\"color: #0087ff; text-decoration-color: #0087ff\">Embedding</span>)              │ ?                           │     <span style=\"color: #00af00; text-decoration-color: #00af00\">0</span> (unbuilt) │\n",
              "├──────────────────────────────────────┼─────────────────────────────┼─────────────────┤\n",
              "│ simple_rnn_3 (<span style=\"color: #0087ff; text-decoration-color: #0087ff\">SimpleRNN</span>)             │ ?                           │     <span style=\"color: #00af00; text-decoration-color: #00af00\">0</span> (unbuilt) │\n",
              "├──────────────────────────────────────┼─────────────────────────────┼─────────────────┤\n",
              "│ attention (<span style=\"color: #0087ff; text-decoration-color: #0087ff\">Attention</span>)                │ ?                           │     <span style=\"color: #00af00; text-decoration-color: #00af00\">0</span> (unbuilt) │\n",
              "├──────────────────────────────────────┼─────────────────────────────┼─────────────────┤\n",
              "│ dropout_5 (<span style=\"color: #0087ff; text-decoration-color: #0087ff\">Dropout</span>)                  │ ?                           │               <span style=\"color: #00af00; text-decoration-color: #00af00\">0</span> │\n",
              "├──────────────────────────────────────┼─────────────────────────────┼─────────────────┤\n",
              "│ dense_5 (<span style=\"color: #0087ff; text-decoration-color: #0087ff\">Dense</span>)                      │ ?                           │     <span style=\"color: #00af00; text-decoration-color: #00af00\">0</span> (unbuilt) │\n",
              "└──────────────────────────────────────┴─────────────────────────────┴─────────────────┘\n",
              "</pre>\n"
            ]
          },
          "metadata": {}
        },
        {
          "output_type": "display_data",
          "data": {
            "text/plain": [
              "\u001b[1m Total params: \u001b[0m\u001b[38;5;34m0\u001b[0m (0.00 B)\n"
            ],
            "text/html": [
              "<pre style=\"white-space:pre;overflow-x:auto;line-height:normal;font-family:Menlo,'DejaVu Sans Mono',consolas,'Courier New',monospace\"><span style=\"font-weight: bold\"> Total params: </span><span style=\"color: #00af00; text-decoration-color: #00af00\">0</span> (0.00 B)\n",
              "</pre>\n"
            ]
          },
          "metadata": {}
        },
        {
          "output_type": "display_data",
          "data": {
            "text/plain": [
              "\u001b[1m Trainable params: \u001b[0m\u001b[38;5;34m0\u001b[0m (0.00 B)\n"
            ],
            "text/html": [
              "<pre style=\"white-space:pre;overflow-x:auto;line-height:normal;font-family:Menlo,'DejaVu Sans Mono',consolas,'Courier New',monospace\"><span style=\"font-weight: bold\"> Trainable params: </span><span style=\"color: #00af00; text-decoration-color: #00af00\">0</span> (0.00 B)\n",
              "</pre>\n"
            ]
          },
          "metadata": {}
        },
        {
          "output_type": "display_data",
          "data": {
            "text/plain": [
              "\u001b[1m Non-trainable params: \u001b[0m\u001b[38;5;34m0\u001b[0m (0.00 B)\n"
            ],
            "text/html": [
              "<pre style=\"white-space:pre;overflow-x:auto;line-height:normal;font-family:Menlo,'DejaVu Sans Mono',consolas,'Courier New',monospace\"><span style=\"font-weight: bold\"> Non-trainable params: </span><span style=\"color: #00af00; text-decoration-color: #00af00\">0</span> (0.00 B)\n",
              "</pre>\n"
            ]
          },
          "metadata": {}
        }
      ]
    },
    {
      "cell_type": "markdown",
      "source": [
        "Hyperparameter Tuning with Keras Tuner"
      ],
      "metadata": {
        "id": "oQkbtcprTGy_"
      }
    },
    {
      "cell_type": "code",
      "source": [
        "import kerastuner as kt\n",
        "from tensorflow.keras.optimizers import Adam\n",
        "from tensorflow.keras.layers import SimpleRNN, Dense, Dropout\n",
        "from tensorflow.keras.models import Sequential\n",
        "from tensorflow.keras.preprocessing.sequence import pad_sequences\n",
        "\n",
        "def build_model(hp):\n",
        "    model = Sequential()\n",
        "    model.add(SimpleRNN(\n",
        "        hp.Int('units', min_value=32, max_value=64, step=32),\n",
        "        input_shape=(X_bow_train.shape[1], 1),\n",
        "        activation='relu'\n",
        "    ))\n",
        "    model.add(Dropout(0.3))\n",
        "    model.add(Dense(1, activation='sigmoid'))\n",
        "\n",
        "    model.compile(\n",
        "        optimizer=Adam(learning_rate=hp.Float('learning_rate', min_value=1e-4, max_value=1e-3, sampling='LOG')),\n",
        "        loss='binary_crossentropy',\n",
        "        metrics=['accuracy']\n",
        "    )\n",
        "    return model\n",
        "\n",
        "X_bow_train_reshaped = np.expand_dims(X_bow_train, axis=-1)\n",
        "X_bow_test_reshaped = np.expand_dims(X_bow_test, axis=-1)\n",
        "\n",
        "tuner = kt.Hyperband(\n",
        "    build_model,\n",
        "    objective='val_accuracy',\n",
        "    max_epochs=3,\n",
        "    factor=2,\n",
        "    hyperband_iterations=1,\n",
        "    directory='my_dir',\n",
        "    project_name='rnn_tuning'\n",
        ")\n",
        "\n",
        "tuner.search(X_bow_train_reshaped, y_bow_train, epochs=3, validation_data=(X_bow_test_reshaped, y_bow_test))"
      ],
      "metadata": {
        "colab": {
          "base_uri": "https://localhost:8080/"
        },
        "id": "jqIVue0RTE0R",
        "outputId": "7158b063-7a85-42ca-d98a-975d80338647"
      },
      "execution_count": 82,
      "outputs": [
        {
          "output_type": "stream",
          "name": "stdout",
          "text": [
            "Trial 8 Complete [00h 03m 28s]\n",
            "val_accuracy: 0.9287894368171692\n",
            "\n",
            "Best val_accuracy So Far: 0.9287894368171692\n",
            "Total elapsed time: 00h 53m 42s\n"
          ]
        }
      ]
    },
    {
      "cell_type": "markdown",
      "source": [
        "#Conclusion"
      ],
      "metadata": {
        "id": "-FtFc5_pTs_1"
      }
    },
    {
      "cell_type": "markdown",
      "source": [
        "In this Experiment, we focused on sentiment analysis of Amazon product reviews using deep learning techniques. We began by preprocessing the text data with methods such as Bag of Words (BoW), TF-IDF, and Word2Vec to transform the text into numerical representations. Various models, including Simple RNN, LSTM, and GRU, were trained on these feature representations, and their performance was evaluated using accuracy, precision, recall, and F1-score.\n",
        "\n",
        "We visualized the results, comparing the performance of each model across the different feature representations. The comparison highlighted the impact of feature extraction methods on model performance. Additionally, we incorporated BERT, a pre-trained transformer model, for sentiment classification. After addressing compatibility issues with tokenization and embeddings, we successfully fine-tuned BERT using TensorFlow’s optimizer.\n",
        "\n"
      ],
      "metadata": {
        "id": "NtHBZxv5Tw_5"
      }
    }
  ]
}