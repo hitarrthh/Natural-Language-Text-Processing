{
  "nbformat": 4,
  "nbformat_minor": 0,
  "metadata": {
    "colab": {
      "provenance": []
    },
    "kernelspec": {
      "name": "python3",
      "display_name": "Python 3"
    },
    "language_info": {
      "name": "python"
    }
  },
  "cells": [
    {
      "cell_type": "markdown",
      "source": [
        "#Lancaster Stemmer"
      ],
      "metadata": {
        "id": "Q6rNiXGF6g3V"
      }
    },
    {
      "cell_type": "markdown",
      "source": [
        "Algorithm"
      ],
      "metadata": {
        "id": "CLtZnq1j6icU"
      }
    },
    {
      "cell_type": "code",
      "execution_count": 12,
      "metadata": {
        "colab": {
          "base_uri": "https://localhost:8080/"
        },
        "id": "Rc6jSJj75hBh",
        "outputId": "d4c07ca6-de19-466b-e402-ee2d33b23409"
      },
      "outputs": [
        {
          "output_type": "stream",
          "name": "stdout",
          "text": [
            "['var', 'runn', 'giv', 'play', 'happi', 'fly']\n"
          ]
        }
      ],
      "source": [
        "def lancaster_stem(word):\n",
        "    suffixes = {\n",
        "        \"ing\": \"\", \"ly\": \"\", \"ed\": \"\", \"ious\": \"\", \"ies\": \"y\",\n",
        "        \"ive\": \"\", \"es\": \"\", \"ment\": \"\", \"er\": \"\", \"ion\": \"\"\n",
        "    }\n",
        "    for suffix, replacement in suffixes.items():\n",
        "        if word.endswith(suffix):\n",
        "            return word[:-len(suffix)] + replacement\n",
        "    return word\n",
        "\n",
        "# Set of words\n",
        "words = {\"running\", \"happily\", \"played\", \"various\", \"flies\", \"giving\"}\n",
        "print([lancaster_stem(word) for word in words])\n"
      ]
    },
    {
      "cell_type": "markdown",
      "source": [
        "Library Implementation"
      ],
      "metadata": {
        "id": "iG6he6Kd6yh6"
      }
    },
    {
      "cell_type": "code",
      "source": [
        "from nltk.stem import LancasterStemmer\n",
        "\n",
        "lancaster = LancasterStemmer()\n",
        "words = {\"running\", \"happily\", \"played\", \"various\", \"flies\", \"giving\"}\n",
        "print([lancaster.stem(word) for word in words])\n"
      ],
      "metadata": {
        "colab": {
          "base_uri": "https://localhost:8080/"
        },
        "id": "aRlMMp336v51",
        "outputId": "92955a08-5246-4bd8-8b11-cd930d6e6fe3"
      },
      "execution_count": 13,
      "outputs": [
        {
          "output_type": "stream",
          "name": "stdout",
          "text": [
            "['vary', 'run', 'giv', 'play', 'happy', 'fli']\n"
          ]
        }
      ]
    },
    {
      "cell_type": "markdown",
      "source": [
        "#Porter Stemmer"
      ],
      "metadata": {
        "id": "PqxSOEw762UL"
      }
    },
    {
      "cell_type": "markdown",
      "source": [
        "Algorithm"
      ],
      "metadata": {
        "id": "j6TOcLRy7AKL"
      }
    },
    {
      "cell_type": "code",
      "source": [
        "def porter_stem(word):\n",
        "    suffixes = {\n",
        "        \"ing\": \"\", \"ly\": \"\", \"ed\": \"\", \"ous\": \"\", \"ies\": \"y\",\n",
        "        \"ive\": \"\", \"es\": \"\", \"ment\": \"\", \"er\": \"\", \"ation\": \"ate\"\n",
        "    }\n",
        "    for suffix, replacement in suffixes.items():\n",
        "        if word.endswith(suffix):\n",
        "            return word[:-len(suffix)] + replacement\n",
        "    return word\n",
        "\n",
        "# Set of words\n",
        "words = {\"running\", \"happily\", \"played\", \"various\", \"flies\", \"giving\"}\n",
        "print([porter_stem(word) for word in words])\n"
      ],
      "metadata": {
        "colab": {
          "base_uri": "https://localhost:8080/"
        },
        "id": "MFyvQmO260Gq",
        "outputId": "bfb6fafb-e71f-4c9c-c52a-f83a4c642915"
      },
      "execution_count": 14,
      "outputs": [
        {
          "output_type": "stream",
          "name": "stdout",
          "text": [
            "['vari', 'runn', 'giv', 'play', 'happi', 'fly']\n"
          ]
        }
      ]
    },
    {
      "cell_type": "markdown",
      "source": [
        "Library Implementation"
      ],
      "metadata": {
        "id": "L54VW1Mk7Jxz"
      }
    },
    {
      "cell_type": "code",
      "source": [
        "from nltk.stem import PorterStemmer\n",
        "\n",
        "porter = PorterStemmer()\n",
        "words = {\"running\", \"happily\", \"played\", \"various\", \"flies\", \"giving\"}\n",
        "print([porter.stem(word) for word in words])\n"
      ],
      "metadata": {
        "colab": {
          "base_uri": "https://localhost:8080/"
        },
        "id": "MFBoAxFq7DD9",
        "outputId": "0db4f3a8-bc14-4eba-a0a1-5fe7829a0721"
      },
      "execution_count": 15,
      "outputs": [
        {
          "output_type": "stream",
          "name": "stdout",
          "text": [
            "['variou', 'run', 'give', 'play', 'happili', 'fli']\n"
          ]
        }
      ]
    },
    {
      "cell_type": "markdown",
      "source": [
        "#Regular Expression Based Stemmer"
      ],
      "metadata": {
        "id": "qRFQc9R_7OO7"
      }
    },
    {
      "cell_type": "markdown",
      "source": [
        "Algorithm"
      ],
      "metadata": {
        "id": "6NgRl4If7QKr"
      }
    },
    {
      "cell_type": "code",
      "source": [
        "import re\n",
        "\n",
        "def regex_stem(word):\n",
        "    return re.sub(r\"(ing|ly|ed|ous|ies|ive|es|ment|er|ation)$\", \"\", word)\n",
        "\n",
        "# Set of words\n",
        "words = {\"running\", \"happily\", \"played\", \"various\", \"flies\", \"giving\"}\n",
        "print([regex_stem(word) for word in words])\n"
      ],
      "metadata": {
        "colab": {
          "base_uri": "https://localhost:8080/"
        },
        "id": "8oil8LZO7MiD",
        "outputId": "3023b074-5bd9-4282-ee80-b0042147f054"
      },
      "execution_count": 16,
      "outputs": [
        {
          "output_type": "stream",
          "name": "stdout",
          "text": [
            "['vari', 'runn', 'giv', 'play', 'happi', 'fl']\n"
          ]
        }
      ]
    },
    {
      "cell_type": "markdown",
      "source": [
        "Library Implementation"
      ],
      "metadata": {
        "id": "pSWAY8Ch7UCL"
      }
    },
    {
      "cell_type": "code",
      "source": [
        "from nltk.stem import RegexpStemmer\n",
        "\n",
        "regexp = RegexpStemmer(r\"(ing|ly|ed|ous|ies|ive|es|ment|er|ation)$\")\n",
        "words = {\"running\", \"happily\", \"played\", \"various\", \"flies\", \"giving\"}\n",
        "print([regexp.stem(word) for word in words])\n"
      ],
      "metadata": {
        "colab": {
          "base_uri": "https://localhost:8080/"
        },
        "id": "xScnWFrV7SJD",
        "outputId": "2442f269-17c5-4f8a-d270-6504f2ca3c4a"
      },
      "execution_count": 17,
      "outputs": [
        {
          "output_type": "stream",
          "name": "stdout",
          "text": [
            "['vari', 'runn', 'giv', 'play', 'happi', 'fl']\n"
          ]
        }
      ]
    },
    {
      "cell_type": "markdown",
      "source": [
        "#Lemmatizer"
      ],
      "metadata": {
        "id": "w8RuH6tx7XBK"
      }
    },
    {
      "cell_type": "markdown",
      "source": [
        "Algorithm"
      ],
      "metadata": {
        "id": "hJAughfv7Y76"
      }
    },
    {
      "cell_type": "code",
      "source": [
        "def simple_lemmatizer(word):\n",
        "    lemma_dict = {\"running\": \"run\", \"mice\": \"mouse\", \"feet\": \"foot\", \"better\": \"good\",\n",
        "                  \"flies\": \"fly\", \"giving\": \"give\", \"various\": \"various\"}\n",
        "    return lemma_dict.get(word, word)\n",
        "\n",
        "# Set of words\n",
        "words = {\"running\", \"happily\", \"played\", \"various\", \"flies\", \"giving\"}\n",
        "print([simple_lemmatizer(word) for word in words])\n"
      ],
      "metadata": {
        "colab": {
          "base_uri": "https://localhost:8080/"
        },
        "id": "n5fov3_x7Tcr",
        "outputId": "0f813cbc-52ee-4905-8c91-c999f456744d"
      },
      "execution_count": 18,
      "outputs": [
        {
          "output_type": "stream",
          "name": "stdout",
          "text": [
            "['various', 'run', 'give', 'played', 'happily', 'fly']\n"
          ]
        }
      ]
    },
    {
      "cell_type": "markdown",
      "source": [
        "Library Implementation"
      ],
      "metadata": {
        "id": "XprzEmAu7caS"
      }
    },
    {
      "cell_type": "code",
      "source": [
        "from nltk.stem import WordNetLemmatizer\n",
        "import nltk\n",
        "nltk.download('wordnet')\n",
        "nltk.download('averaged_perceptron_tagger')"
      ],
      "metadata": {
        "colab": {
          "base_uri": "https://localhost:8080/"
        },
        "id": "CePQKmqn7qxT",
        "outputId": "76830d1b-3ecb-44bb-d817-82c2528efeaa"
      },
      "execution_count": 19,
      "outputs": [
        {
          "output_type": "stream",
          "name": "stderr",
          "text": [
            "[nltk_data] Downloading package wordnet to /root/nltk_data...\n",
            "[nltk_data]   Package wordnet is already up-to-date!\n",
            "[nltk_data] Downloading package averaged_perceptron_tagger to\n",
            "[nltk_data]     /root/nltk_data...\n",
            "[nltk_data]   Package averaged_perceptron_tagger is already up-to-\n",
            "[nltk_data]       date!\n"
          ]
        },
        {
          "output_type": "execute_result",
          "data": {
            "text/plain": [
              "True"
            ]
          },
          "metadata": {},
          "execution_count": 19
        }
      ]
    },
    {
      "cell_type": "code",
      "source": [
        "lemmatizer = WordNetLemmatizer()\n",
        "words = {\"running\", \"happily\", \"played\", \"various\", \"flies\", \"giving\"}\n",
        "print([lemmatizer.lemmatize(word, pos=\"v\") for word in words])\n"
      ],
      "metadata": {
        "colab": {
          "base_uri": "https://localhost:8080/"
        },
        "id": "j57pKW5i7a2c",
        "outputId": "3582e6c2-709d-402a-9ff6-6537de3aaab1"
      },
      "execution_count": 20,
      "outputs": [
        {
          "output_type": "stream",
          "name": "stdout",
          "text": [
            "['various', 'run', 'give', 'play', 'happily', 'fly']\n"
          ]
        }
      ]
    }
  ]
}